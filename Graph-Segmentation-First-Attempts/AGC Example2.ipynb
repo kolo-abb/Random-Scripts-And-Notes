{
 "cells": [
  {
   "cell_type": "markdown",
   "metadata": {},
   "source": [
    "# Graph cut method for bloodcells counting\n",
    "\n",
    "A ot of thanks for contribution to Paweł :)"
   ]
  },
  {
   "cell_type": "markdown",
   "metadata": {},
   "source": [
    "Example 2: JPG image with more yellowish background - it does not need adaptive approach. That it there are good enough results for fixed parameters for flow treshold."
   ]
  },
  {
   "cell_type": "code",
   "execution_count": 1,
   "metadata": {},
   "outputs": [],
   "source": [
    "from PIL import Image\n",
    "import numpy as np\n",
    "import networkx as nx\n",
    "from matplotlib import pyplot as plt\n",
    "from scipy.stats import norm\n",
    "from networkx.algorithms.flow import edmonds_karp"
   ]
  },
  {
   "cell_type": "markdown",
   "metadata": {},
   "source": [
    "Necessary functions for pipeline:"
   ]
  },
  {
   "cell_type": "code",
   "execution_count": 2,
   "metadata": {},
   "outputs": [],
   "source": [
    "def get_distribution(image):\n",
    "    im_data = np.array(image.getchannel('G'),dtype='int64')\n",
    "    im_data = im_data.reshape(im_data.shape[0] * im_data.shape[1], 1)\n",
    "    mu, std = norm.fit(im_data)\n",
    "    return mu, std\n",
    "\n",
    "def get_bitmap(R, threshold, dimx, dimy):\n",
    "    bitmap = np.zeros((dimx, dimy))\n",
    "    for i in range(dimx):\n",
    "        for j in range(dimy):\n",
    "            if R['s'][(i,j)]['flow'] > threshold:\n",
    "                bitmap[i][j] = 1\n",
    "    return bitmap\n",
    "\n",
    "def create_graph(arr, mu, std, k, s):\n",
    "    G = nx.DiGraph()\n",
    "    for i in range(arr.shape[0]):\n",
    "        for j in range(arr.shape[1]):\n",
    "            G.add_node((i,j))\n",
    "    G.add_node('s')\n",
    "    G.add_node('t')\n",
    "    for y in range(arr.shape[1]):\n",
    "        for x in range(arr.shape[0]):\n",
    "            if x > 0:\n",
    "                G.add_edge((x,y),(x-1,y),capacity=(k * np.exp((abs(arr[x,y] - arr[x-1,y])) ** 2 / s)))\n",
    "                G.add_edge((x-1,y),(x,y),capacity=(k * np.exp((abs(arr[x,y] - arr[x-1,y])) ** 2 / s)))\n",
    "            if y > 0:\n",
    "                G.add_edge((x,y),(x,y-1),capacity=(k * np.exp((abs(arr[x,y] - arr[x,y-1])) ** 2 / s)))\n",
    "                G.add_edge((x,y-1),(x,y),capacity=(k * np.exp((abs(arr[x,y] - arr[x,y-1])) ** 2 / s)))\n",
    "            G.add_edge((x,y),'t',capacity=(1 - norm(mu, std).pdf(arr[x,y])))\n",
    "            G.add_edge('s',(x,y),capacity=(norm(mu, std).pdf(arr[x,y])))\n",
    "    return G"
   ]
  },
  {
   "cell_type": "markdown",
   "metadata": {},
   "source": [
    "Pipeline:"
   ]
  },
  {
   "cell_type": "code",
   "execution_count": 6,
   "metadata": {},
   "outputs": [],
   "source": [
    "def image_processing_pipeline(image):\n",
    "    \n",
    "    # image is an opened picture\n",
    "    image_arr = np.array(image,dtype='int64')\n",
    "    \n",
    "    width, height, depth = image_arr.shape\n",
    "    \n",
    "    result_image = np.zeros((width, height, depth))\n",
    "    \n",
    "    # find a fitting distribution for background\n",
    "    mu, std = get_distribution(image)\n",
    "    \n",
    "    w_coords = list(range(0, width, 32))\n",
    "    h_coords = list(range(0, height, 32))\n",
    "    \n",
    "    if w_coords[-1] != width - 1:\n",
    "        w_coords.append(width - 1)\n",
    "    if h_coords[-1] != height - 1:\n",
    "        h_coords.append(height - 1)\n",
    "\n",
    "    for d in range(depth):\n",
    "        # we split the image into 32x32 subimages\n",
    "        for w in range(len(w_coords) - 1): # not considering last element\n",
    "            for h in range(len(h_coords) - 1):\n",
    "                arr = image_arr[w_coords[w]:w_coords[w+1], h_coords[h]:h_coords[h+1], d]\n",
    "                \n",
    "                G = create_graph(arr, mu, std, 0.0004, 4)\n",
    "                \n",
    "                R = edmonds_karp(G, 's', 't')\n",
    "                \n",
    "                print('Current flow:', R.graph['flow_value'], end=' ')\n",
    "                \n",
    "                dimx = w_coords[w+1] - w_coords[w]\n",
    "                dimy = h_coords[h+1] - h_coords[h]\n",
    "                bitmap = get_bitmap(R, 0.008, dimx, dimy)\n",
    "                \n",
    "                arr2 = arr * bitmap\n",
    "                \n",
    "                result_image[w_coords[w]:w_coords[w+1], h_coords[h]:h_coords[h+1], d] = arr2\n",
    "                \n",
    "                print('Slice {}:{},{}:{},{} done!'.format(w_coords[w], w_coords[w+1], h_coords[h], h_coords[h+1], d))\n",
    "\n",
    "    return result_image"
   ]
  },
  {
   "cell_type": "code",
   "execution_count": 7,
   "metadata": {},
   "outputs": [
    {
     "name": "stdout",
     "output_type": "stream",
     "text": [
      "Current flow: 7.706688699100617 Slice 0:32,0:32,0 done!\n",
      "Current flow: 7.584717089768661 Slice 0:32,32:64,0 done!\n",
      "Current flow: 7.652996362838561 Slice 0:32,64:96,0 done!\n",
      "Current flow: 7.693546683077554 Slice 0:32,96:128,0 done!\n",
      "Current flow: 7.551227209761108 Slice 0:32,128:160,0 done!\n",
      "Current flow: 7.566272131977162 Slice 0:32,160:192,0 done!\n",
      "Current flow: 1.709633941308457 Slice 0:32,192:199,0 done!\n",
      "Current flow: 7.711295411281125 Slice 32:64,0:32,0 done!\n",
      "Current flow: 8.174187265592003 Slice 32:64,32:64,0 done!\n",
      "Current flow: 7.93014464373135 Slice 32:64,64:96,0 done!\n",
      "Current flow: 7.430699604177442 Slice 32:64,96:128,0 done!\n",
      "Current flow: 7.826311538861241 Slice 32:64,128:160,0 done!\n",
      "Current flow: 7.566081351618593 Slice 32:64,160:192,0 done!\n",
      "Current flow: 1.6063358665763423 Slice 32:64,192:199,0 done!\n",
      "Current flow: 7.896178783291715 Slice 64:96,0:32,0 done!\n",
      "Current flow: 7.782616461056536 Slice 64:96,32:64,0 done!\n",
      "Current flow: 7.720049444850377 Slice 64:96,64:96,0 done!\n",
      "Current flow: 7.4469262823617255 Slice 64:96,96:128,0 done!\n",
      "Current flow: 7.357406605242345 Slice 64:96,128:160,0 done!\n",
      "Current flow: 7.600555100002605 Slice 64:96,160:192,0 done!\n",
      "Current flow: 1.5607645498729292 Slice 64:96,192:199,0 done!\n",
      "Current flow: 7.843134093758299 Slice 96:128,0:32,0 done!\n",
      "Current flow: 7.825164923800176 Slice 96:128,32:64,0 done!\n",
      "Current flow: 7.850848451458957 Slice 96:128,64:96,0 done!\n",
      "Current flow: 7.362038641607077 Slice 96:128,96:128,0 done!\n",
      "Current flow: 7.896996003755476 Slice 96:128,128:160,0 done!\n",
      "Current flow: 7.6940135536783885 Slice 96:128,160:192,0 done!\n",
      "Current flow: 1.615462805288069 Slice 96:128,192:199,0 done!\n",
      "Current flow: 7.863640661201867 Slice 128:160,0:32,0 done!\n",
      "Current flow: 7.855695447438158 Slice 128:160,32:64,0 done!\n",
      "Current flow: 7.9304873042432895 Slice 128:160,64:96,0 done!\n",
      "Current flow: 7.347874570362146 Slice 128:160,96:128,0 done!\n",
      "Current flow: 7.573967132088156 Slice 128:160,128:160,0 done!\n",
      "Current flow: 7.791324560901122 Slice 128:160,160:192,0 done!\n",
      "Current flow: 1.5034242083940852 Slice 128:160,192:199,0 done!\n",
      "Current flow: 7.873971981729731 Slice 160:192,0:32,0 done!\n",
      "Current flow: 7.431088169403579 Slice 160:192,32:64,0 done!\n",
      "Current flow: 7.7571225274346025 Slice 160:192,64:96,0 done!\n",
      "Current flow: 7.72054866266884 Slice 160:192,96:128,0 done!\n",
      "Current flow: 7.790427688863293 Slice 160:192,128:160,0 done!\n",
      "Current flow: 7.699686422449211 Slice 160:192,160:192,0 done!\n",
      "Current flow: 1.446139202938022 Slice 160:192,192:199,0 done!\n",
      "Current flow: 1.7585784072424013 Slice 192:199,0:32,0 done!\n",
      "Current flow: 1.759227240303107 Slice 192:199,32:64,0 done!\n",
      "Current flow: 1.7293437638842344 Slice 192:199,64:96,0 done!\n",
      "Current flow: 1.7024693477428259 Slice 192:199,96:128,0 done!\n",
      "Current flow: 1.6785632228483651 Slice 192:199,128:160,0 done!\n",
      "Current flow: 1.7920761814169957 Slice 192:199,160:192,0 done!\n",
      "Current flow: 0.35007371487746425 Slice 192:199,192:199,0 done!\n",
      "Current flow: 6.813603150962652 Slice 0:32,0:32,1 done!\n",
      "Current flow: 6.36259422601905 Slice 0:32,32:64,1 done!\n",
      "Current flow: 6.565823662412533 Slice 0:32,64:96,1 done!\n",
      "Current flow: 6.323917932777845 Slice 0:32,96:128,1 done!\n",
      "Current flow: 6.310736806872267 Slice 0:32,128:160,1 done!\n",
      "Current flow: 6.565329550924267 Slice 0:32,160:192,1 done!\n",
      "Current flow: 1.2583056938199966 Slice 0:32,192:199,1 done!\n",
      "Current flow: 6.682788904074091 Slice 32:64,0:32,1 done!\n",
      "Current flow: 5.787014876919456 Slice 32:64,32:64,1 done!\n",
      "Current flow: 5.880321889171632 Slice 32:64,64:96,1 done!\n",
      "Current flow: 6.247065498422124 Slice 32:64,96:128,1 done!\n",
      "Current flow: 6.494358431527901 Slice 32:64,128:160,1 done!\n",
      "Current flow: 5.857076003182752 Slice 32:64,160:192,1 done!\n",
      "Current flow: 1.2919663999173288 Slice 32:64,192:199,1 done!\n",
      "Current flow: 6.037708453651679 Slice 64:96,0:32,1 done!\n",
      "Current flow: 6.309278204471241 Slice 64:96,32:64,1 done!\n",
      "Current flow: 5.686160278380314 Slice 64:96,64:96,1 done!\n",
      "Current flow: 6.121515295618871 Slice 64:96,96:128,1 done!\n",
      "Current flow: 6.437200170707783 Slice 64:96,128:160,1 done!\n",
      "Current flow: 6.179439858162187 Slice 64:96,160:192,1 done!\n",
      "Current flow: 1.3657285588356018 Slice 64:96,192:199,1 done!\n",
      "Current flow: 5.8451011489239715 Slice 96:128,0:32,1 done!\n",
      "Current flow: 6.096779060516171 Slice 96:128,32:64,1 done!\n",
      "Current flow: 5.563910743144203 Slice 96:128,64:96,1 done!\n",
      "Current flow: 6.2632070515812615 Slice 96:128,96:128,1 done!\n",
      "Current flow: 5.873517688150047 Slice 96:128,128:160,1 done!\n",
      "Current flow: 6.640512480727888 Slice 96:128,160:192,1 done!\n",
      "Current flow: 1.3126386465994375 Slice 96:128,192:199,1 done!\n",
      "Current flow: 6.204482120879909 Slice 128:160,0:32,1 done!\n",
      "Current flow: 6.470512470614633 Slice 128:160,32:64,1 done!\n",
      "Current flow: 5.789205004597163 Slice 128:160,64:96,1 done!\n",
      "Current flow: 6.256360919497892 Slice 128:160,96:128,1 done!\n",
      "Current flow: 6.564160637169132 Slice 128:160,128:160,1 done!\n",
      "Current flow: 6.596354405544235 Slice 128:160,160:192,1 done!\n",
      "Current flow: 1.4891687807105158 Slice 128:160,192:199,1 done!\n",
      "Current flow: 5.865963119346872 Slice 160:192,0:32,1 done!\n",
      "Current flow: 6.579451648623763 Slice 160:192,32:64,1 done!\n",
      "Current flow: 5.920811088640543 Slice 160:192,64:96,1 done!\n",
      "Current flow: 6.811099698396916 Slice 160:192,96:128,1 done!\n",
      "Current flow: 6.068749370721428 Slice 160:192,128:160,1 done!\n",
      "Current flow: 6.431521486708796 Slice 160:192,160:192,1 done!\n",
      "Current flow: 1.5243545855302685 Slice 160:192,192:199,1 done!\n",
      "Current flow: 1.2495737001399616 Slice 192:199,0:32,1 done!\n",
      "Current flow: 1.223013684151245 Slice 192:199,32:64,1 done!\n",
      "Current flow: 0.9788941670139895 Slice 192:199,64:96,1 done!\n",
      "Current flow: 1.430961204908129 Slice 192:199,96:128,1 done!\n",
      "Current flow: 1.382842521299605 Slice 192:199,128:160,1 done!\n",
      "Current flow: 1.211483969741952 Slice 192:199,160:192,1 done!\n",
      "Current flow: 0.2927327145021667 Slice 192:199,192:199,1 done!\n",
      "Current flow: 8.164692656619186 Slice 0:32,0:32,2 done!\n",
      "Current flow: 7.773454671025836 Slice 0:32,32:64,2 done!\n",
      "Current flow: 7.914718566350494 Slice 0:32,64:96,2 done!\n",
      "Current flow: 7.662608780559807 Slice 0:32,96:128,2 done!\n",
      "Current flow: 7.818843849993624 Slice 0:32,128:160,2 done!\n",
      "Current flow: 7.890677760418294 Slice 0:32,160:192,2 done!\n",
      "Current flow: 1.5530735820009425 Slice 0:32,192:199,2 done!\n",
      "Current flow: 8.04670889800941 Slice 32:64,0:32,2 done!\n",
      "Current flow: 7.031900284345538 Slice 32:64,32:64,2 done!\n",
      "Current flow: 7.205441120422577 Slice 32:64,64:96,2 done!\n",
      "Current flow: 7.7610053258364715 Slice 32:64,96:128,2 done!\n",
      "Current flow: 7.7079014964838 Slice 32:64,128:160,2 done!\n",
      "Current flow: 7.185026284470576 Slice 32:64,160:192,2 done!\n",
      "Current flow: 1.7034546895199967 Slice 32:64,192:199,2 done!\n",
      "Current flow: 7.406955970681201 Slice 64:96,0:32,2 done!\n",
      "Current flow: 7.8204469810661585 Slice 64:96,32:64,2 done!\n",
      "Current flow: 7.141558530850927 Slice 64:96,64:96,2 done!\n",
      "Current flow: 7.671684192966089 Slice 64:96,96:128,2 done!\n",
      "Current flow: 8.071770675969724 Slice 64:96,128:160,2 done!\n",
      "Current flow: 7.586361356420993 Slice 64:96,160:192,2 done!\n",
      "Current flow: 1.7562107684564354 Slice 64:96,192:199,2 done!\n",
      "Current flow: 7.288452394678719 Slice 96:128,0:32,2 done!\n",
      "Current flow: 7.478397533931866 Slice 96:128,32:64,2 done!\n",
      "Current flow: 6.983224510622111 Slice 96:128,64:96,2 done!\n",
      "Current flow: 7.946751084542451 Slice 96:128,96:128,2 done!\n",
      "Current flow: 7.2676117496228985 Slice 96:128,128:160,2 done!\n",
      "Current flow: 7.9122001247391704 Slice 96:128,160:192,2 done!\n",
      "Current flow: 1.639052542562811 Slice 96:128,192:199,2 done!\n",
      "Current flow: 7.626440628953409 Slice 128:160,0:32,2 done!\n",
      "Current flow: 7.839871123439178 Slice 128:160,32:64,2 done!\n",
      "Current flow: 7.074924888003187 Slice 128:160,64:96,2 done!\n",
      "Current flow: 7.983269306932661 Slice 128:160,96:128,2 done!\n",
      "Current flow: 8.153491752642196 Slice 128:160,128:160,2 done!\n",
      "Current flow: 7.906249969223353 Slice 128:160,160:192,2 done!\n",
      "Current flow: 1.857013961506757 Slice 128:160,192:199,2 done!\n",
      "Current flow: 7.227872061793523 Slice 160:192,0:32,2 done!\n",
      "Current flow: 8.137191574930863 Slice 160:192,32:64,2 done!\n",
      "Current flow: 7.290012791861573 Slice 160:192,64:96,2 done!\n",
      "Current flow: 8.110708156423184 Slice 160:192,96:128,2 done!\n",
      "Current flow: 7.574103128540999 Slice 160:192,128:160,2 done!\n"
     ]
    },
    {
     "name": "stdout",
     "output_type": "stream",
     "text": [
      "Current flow: 7.543166230900422 Slice 160:192,160:192,2 done!\n",
      "Current flow: 1.868913123534247 Slice 160:192,192:199,2 done!\n",
      "Current flow: 1.5212222330543348 Slice 192:199,0:32,2 done!\n",
      "Current flow: 1.5014264080060435 Slice 192:199,32:64,2 done!\n",
      "Current flow: 1.3070054494368397 Slice 192:199,64:96,2 done!\n",
      "Current flow: 1.703638479070625 Slice 192:199,96:128,2 done!\n",
      "Current flow: 1.7062651167859175 Slice 192:199,128:160,2 done!\n",
      "Current flow: 1.489908186213123 Slice 192:199,160:192,2 done!\n",
      "Current flow: 0.3704854671409616 Slice 192:199,192:199,2 done!\n"
     ]
    }
   ],
   "source": [
    "image = Image.open('3958.jpg').resize((200,200))\n",
    "result = image_processing_pipeline(image)"
   ]
  },
  {
   "cell_type": "code",
   "execution_count": 8,
   "metadata": {},
   "outputs": [
    {
     "name": "stderr",
     "output_type": "stream",
     "text": [
      "Clipping input data to the valid range for imshow with RGB data ([0..1] for floats or [0..255] for integers).\n"
     ]
    },
    {
     "data": {
      "text/plain": [
       "<matplotlib.image.AxesImage at 0x16faddc2668>"
      ]
     },
     "execution_count": 8,
     "metadata": {},
     "output_type": "execute_result"
    },
    {
     "data": {
      "image/png": "[encoded data removed]",
      "text/plain": [
       "<Figure size 432x288 with 1 Axes>"
      ]
     },
     "metadata": {
      "needs_background": "light"
     },
     "output_type": "display_data"
    }
   ],
   "source": [
    "plt.imshow(result)"
   ]
  },
  {
   "cell_type": "code",
   "execution_count": null,
   "metadata": {},
   "outputs": [],
   "source": []
  }
 ],
 "metadata": {
  "kernelspec": {
   "display_name": "Python 3",
   "language": "python",
   "name": "python3"
  },
  "language_info": {
   "codemirror_mode": {
    "name": "ipython",
    "version": 3
   },
   "file_extension": ".py",
   "mimetype": "text/x-python",
   "name": "python",
   "nbconvert_exporter": "python",
   "pygments_lexer": "ipython3",
   "version": "3.7.1"
  }
 },
 "nbformat": 4,
 "nbformat_minor": 2
}

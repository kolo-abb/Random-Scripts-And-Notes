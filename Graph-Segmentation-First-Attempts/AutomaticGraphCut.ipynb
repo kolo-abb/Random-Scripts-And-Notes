{
 "cells": [
  {
   "cell_type": "markdown",
   "metadata": {},
   "source": [
    "# Graph cut method for bloodcells counting\n",
    "\n",
    "A lot of thanks for Paweł :)"
   ]
  },
  {
   "cell_type": "markdown",
   "metadata": {},
   "source": [
    "This method strongly relies on parameters, that accomodates capacities of edges accordingly to image's outlook.\n",
    "Below code is tested out for bloodcells segmentation. \n",
    "IMPORTANT NOTE: Approach presented below needs a proper model change, because of its time consumption and segmentation effects."
   ]
  },
  {
   "cell_type": "code",
   "execution_count": 1,
   "metadata": {},
   "outputs": [],
   "source": [
    "from PIL import Image\n",
    "import numpy as np\n",
    "import networkx as nx\n",
    "from matplotlib import pyplot as plt\n",
    "from scipy.stats import norm\n",
    "from networkx.algorithms.flow import edmonds_karp"
   ]
  },
  {
   "cell_type": "markdown",
   "metadata": {},
   "source": [
    "Necessary functions for pipeline:"
   ]
  },
  {
   "cell_type": "code",
   "execution_count": 2,
   "metadata": {},
   "outputs": [],
   "source": [
    "def get_distribution(image):\n",
    "    im_data = np.array(image.getchannel('G'),dtype='int64')\n",
    "    im_data = im_data.reshape(im_data.shape[0] * im_data.shape[1], 1)\n",
    "    mu, std = norm.fit(im_data)\n",
    "    return mu, std\n",
    "\n",
    "def get_bitmap(R, threshold, dimx, dimy):\n",
    "    bitmap = np.zeros((dimx, dimy))\n",
    "    for i in range(dimx):\n",
    "        for j in range(dimy):\n",
    "            if R['s'][(i,j)]['flow'] > threshold:\n",
    "                bitmap[i][j] = 1\n",
    "    return bitmap\n",
    "\n",
    "def create_graph(arr, mu, std, k, s):\n",
    "    G = nx.DiGraph()\n",
    "    for i in range(arr.shape[0]):\n",
    "        for j in range(arr.shape[1]):\n",
    "            G.add_node((i,j))\n",
    "    G.add_node('s')\n",
    "    G.add_node('t')\n",
    "    for y in range(arr.shape[1]):\n",
    "        for x in range(arr.shape[0]):\n",
    "            if x > 0:\n",
    "                G.add_edge((x,y),(x-1,y),capacity=(k * np.exp((abs(arr[x,y] - arr[x-1,y])) ** 2 / s)))\n",
    "                G.add_edge((x-1,y),(x,y),capacity=(k * np.exp((abs(arr[x,y] - arr[x-1,y])) ** 2 / s)))\n",
    "            if y > 0:\n",
    "                G.add_edge((x,y),(x,y-1),capacity=(k * np.exp((abs(arr[x,y] - arr[x,y-1])) ** 2 / s)))\n",
    "                G.add_edge((x,y-1),(x,y),capacity=(k * np.exp((abs(arr[x,y] - arr[x,y-1])) ** 2 / s)))\n",
    "            G.add_edge((x,y),'t',capacity=(1 - norm(mu, std).pdf(arr[x,y])))\n",
    "            G.add_edge('s',(x,y),capacity=(norm(mu, std).pdf(arr[x,y])))\n",
    "    return G"
   ]
  },
  {
   "cell_type": "markdown",
   "metadata": {},
   "source": [
    "Pipeline:"
   ]
  },
  {
   "cell_type": "code",
   "execution_count": 3,
   "metadata": {},
   "outputs": [],
   "source": [
    "def image_processing_pipeline(image):\n",
    "    \n",
    "    # image is an opened picture\n",
    "    image_arr = np.array(image,dtype='int64')\n",
    "    \n",
    "    width, height, depth = image_arr.shape\n",
    "    \n",
    "    result_image = np.zeros((width, height, depth))\n",
    "    \n",
    "    # find a fitting distribution for background\n",
    "    mu, std = get_distribution(image)\n",
    "    \n",
    "    w_coords = list(range(0, width, 32))\n",
    "    h_coords = list(range(0, height, 32))\n",
    "    \n",
    "    if w_coords[-1] != width - 1:\n",
    "        w_coords.append(width - 1)\n",
    "    if h_coords[-1] != height - 1:\n",
    "        h_coords.append(height - 1)\n",
    "\n",
    "    for d in range(depth):\n",
    "        # we split the image into 32x32 subimages\n",
    "        for w in range(len(w_coords) - 1): # not considering last element\n",
    "            for h in range(len(h_coords) - 1):\n",
    "                arr = image_arr[w_coords[w]:w_coords[w+1], h_coords[h]:h_coords[h+1], d]\n",
    "                \n",
    "                G = create_graph(arr, mu, std, 0.0025, 10)\n",
    "                \n",
    "                R = edmonds_karp(G, 's', 't')\n",
    "                \n",
    "                print('Current flow:', R.graph['flow_value'], end=' ')\n",
    "                \n",
    "                # compute possible treshold for current digraph\n",
    "                mean = R.graph['flow_value'] / len(G.nodes())\n",
    "                \n",
    "                dimx = w_coords[w+1] - w_coords[w]\n",
    "                dimy = h_coords[h+1] - h_coords[h]\n",
    "                bitmap = get_bitmap(R, mean, dimx, dimy)\n",
    "                \n",
    "                arr2 = arr * bitmap\n",
    "                \n",
    "                result_image[w_coords[w]:w_coords[w+1], h_coords[h]:h_coords[h+1], d] = arr2\n",
    "                \n",
    "                print('Slice {}:{},{}:{},{} done!'.format(w_coords[w], w_coords[w+1], h_coords[h], h_coords[h+1], d))\n",
    "\n",
    "    return result_image"
   ]
  }
 ],
 "metadata": {
  "kernelspec": {
   "display_name": "Python 3",
   "language": "python",
   "name": "python3"
  },
  "language_info": {
   "codemirror_mode": {
    "name": "ipython",
    "version": 3
   },
   "file_extension": ".py",
   "mimetype": "text/x-python",
   "name": "python",
   "nbconvert_exporter": "python",
   "pygments_lexer": "ipython3",
   "version": "3.7.1"
  }
 },
 "nbformat": 4,
 "nbformat_minor": 2
}

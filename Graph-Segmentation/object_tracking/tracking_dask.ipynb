{
 "cells": [
  {
   "cell_type": "markdown",
   "metadata": {},
   "source": [
    "# Multi-Object Tracking Using Graph Matching"
   ]
  },
  {
   "cell_type": "markdown",
   "metadata": {},
   "source": [
    "### 1. Import modules"
   ]
  },
  {
   "cell_type": "code",
   "execution_count": 1,
   "metadata": {},
   "outputs": [],
   "source": [
    "import numpy as np\n",
    "import cv2\n",
    "import glob\n",
    "from PIL import Image\n",
    "from scipy import ndimage\n",
    "import two_cc \n",
    "import matplotlib.pyplot as plt\n",
    "import math\n",
    "from random import random, randint\n",
    "import munkres\n",
    "import os\n",
    "import time\n",
    "import dask"
   ]
  },
  {
   "cell_type": "markdown",
   "metadata": {},
   "source": [
    "Munkres is a library for computing Hungarian Algorithm - solves matching problem for matrices."
   ]
  },
  {
   "cell_type": "markdown",
   "metadata": {},
   "source": [
    "### 2. Get frames from a movie\n",
    "\n",
    "For the first time getting frams from movie is necessary."
   ]
  },
  {
   "cell_type": "code",
   "execution_count": 2,
   "metadata": {},
   "outputs": [],
   "source": [
    "# # Getting frames from movie\n",
    "# vidcap = cv2.VideoCapture('Capt2.mp4')\n",
    "# success,image = vidcap.read()\n",
    "# count = 0\n",
    "# frames=[]\n",
    "# while success:\n",
    "#     cv2.imwrite(\"frame%d.jpg\" % count, image)     # save frame as JPEG file  \n",
    "#     success,image = vidcap.read()\n",
    "#     count += 1"
   ]
  },
  {
   "cell_type": "markdown",
   "metadata": {},
   "source": [
    "### 3. Upload frames"
   ]
  },
  {
   "cell_type": "markdown",
   "metadata": {},
   "source": [
    "First of all, let's upload frames of chosen movie."
   ]
  },
  {
   "cell_type": "code",
   "execution_count": 3,
   "metadata": {},
   "outputs": [],
   "source": [
    "original_frames = []\n",
    "frames = []\n",
    "upper_left_x = 0\n",
    "upper_left_y = 150\n",
    "lower_right_x = 500\n",
    "lower_right_y = 430\n",
    "\n",
    "for i in range(296):\n",
    "    image = Image.open(\"./frames/frame\"+str(i) + \".jpg\")\n",
    "    original_frames.append(image)\n",
    "    w, h = image.size\n",
    "    image = image.crop((upper_left_x, upper_left_y, lower_right_x, lower_right_y))\n",
    "    frames.append(image)"
   ]
  },
  {
   "cell_type": "markdown",
   "metadata": {},
   "source": [
    "### 4. Image segmentation"
   ]
  },
  {
   "cell_type": "markdown",
   "metadata": {},
   "source": [
    "We can use any of image segmentation method provided by our team. We have to import desired method in the \"Import modules\" part. Then we use it in the \"Pipeline\" section."
   ]
  },
  {
   "cell_type": "markdown",
   "metadata": {},
   "source": [
    "### 5. Blocks construction"
   ]
  },
  {
   "cell_type": "markdown",
   "metadata": {},
   "source": [
    "construct_blocks(): We will work on array with smaller size than size of our frames. To implement this we divide frames into 8x8 blocks. We have to be careful: on the border we can have less than 8 pixels in width/height. We assume that block is significant (contains part of an object) if it contains more than 10 foreground pixels. We assign 1 to such blocks."
   ]
  },
  {
   "cell_type": "code",
   "execution_count": 4,
   "metadata": {},
   "outputs": [],
   "source": [
    "def construct_blocks(support_map): \n",
    "    sms=support_map.shape\n",
    "    width=math.ceil(sms[0]/8)\n",
    "    height=math.ceil(sms[1]/8)\n",
    "    blocks=np.zeros( (width, height) )\n",
    "    for i in range(width):\n",
    "        for j in range(height):\n",
    "            fore_pixels=0\n",
    "            for k in range(min(8, sms[0]-8*i)): \n",
    "                for l in range(min(8, sms[1]-8*j)):\n",
    "                    if support_map[8*i+k][8*j+l]==1:\n",
    "                        fore_pixels+=1\n",
    "            if fore_pixels>10:\n",
    "                blocks[i][j]=1\n",
    "    return blocks"
   ]
  },
  {
   "cell_type": "markdown",
   "metadata": {},
   "source": [
    "connected_blocks(), dfs(): We will use algorithm based on DFS to find \"connected\" boxes. We will assign different integer number to all of them. This approach also gives as possibility to count elements of each components. This will be useful in the future."
   ]
  },
  {
   "cell_type": "code",
   "execution_count": 5,
   "metadata": {},
   "outputs": [],
   "source": [
    "def dfs(array,box,i,j,index,nums,indices):\n",
    "    nums+=1\n",
    "    if i-1 > 0 and array[i-1][j]==1.0 and box[i-1][j]==0.0:\n",
    "            box[i-1][j]=index\n",
    "            indices[index].append((i-1,j))\n",
    "            nums=dfs(array,box,i-1,j,index,nums,indices)\n",
    "    if j-1 > 0 and array[i][j-1]==1.0 and box[i][j-1]==0.0:\n",
    "            box[i][j-1]=index\n",
    "            indices[index].append((i,j-1))\n",
    "            nums=dfs(array,box,i,j-1,index,nums,indices)\n",
    "    if i+1 < array.shape[0] and array[i+1][j]==1.0 and box[i+1][j]==0.0:\n",
    "            box[i+1][j]=index\n",
    "            indices[index].append((i+1,j))\n",
    "            nums=dfs(array,box,i+1,j,index,nums,indices)\n",
    "    if j+1 < array.shape[1] and array[i][j+1]==1.0 and box[i][j+1]==0.0:\n",
    "            box[i][j+1]=index\n",
    "            indices[index].append((i,j+1))\n",
    "            nums=dfs(array,box,i,j+1,index,nums,indices)\n",
    "    return nums\n",
    "            \n",
    "def connected_blocks(array):\n",
    "    counts=dict()\n",
    "    indices=dict()\n",
    "    nums=0\n",
    "    index=1\n",
    "    indices[index]=[]\n",
    "    box=np.zeros(array.shape)\n",
    "    for i in range(array.shape[0]):\n",
    "        for j in range(array.shape[1]):\n",
    "            if array[i][j]==1.0 and box[i][j]==0.0:\n",
    "                box[i][j]=index\n",
    "                indices[index].append((i,j))\n",
    "                nums=dfs(array,box,i,j,index,nums,indices)\n",
    "                counts[index]=nums\n",
    "                index+=1\n",
    "                indices[index]=[]\n",
    "                nums=0\n",
    "    indices.pop(index)\n",
    "    return counts, indices"
   ]
  },
  {
   "cell_type": "markdown",
   "metadata": {},
   "source": [
    "### 6. Define needed functions"
   ]
  },
  {
   "cell_type": "markdown",
   "metadata": {},
   "source": [
    "Function defined below will be useful in the future. The best approach is to skip them during analysing the process and come back to their definitions and explanations when they are in use."
   ]
  },
  {
   "cell_type": "markdown",
   "metadata": {},
   "source": [
    "Our matching gives us matched pairs of blocks. But given values are indices of these blocks in the list of blocks, not their proper indices = keys (for boxes). So we will update our matching a little: we change those indices into keys. This is important because we are using keys to assign colors to objects which means assigning objects. For use number of color = index of object."
   ]
  },
  {
   "cell_type": "code",
   "execution_count": 6,
   "metadata": {},
   "outputs": [],
   "source": [
    "def update_matching(FD1, matching):\n",
    "    for k in range(len(matching)): #we consider all first element in pairs in matching\n",
    "        key_prev = FD1.objects[k].index #key/index of object in FD[i-1], that color  \n",
    "        key_curr = matching[k][1] + 1\n",
    "        matching[k] = (key_prev, key_curr)\n",
    "    return matching"
   ]
  },
  {
   "cell_type": "markdown",
   "metadata": {},
   "source": [
    "Now we are looking for borders of our blocks. We will use them to show objects on the frame.\n",
    "\n",
    "Different objects have borders in distinct colors. We can get colors in more blurry way because when the group of bees splits we see big difference and I think we should not. But then our segmentation can be less readable. So for now it stays like it is. "
   ]
  },
  {
   "cell_type": "code",
   "execution_count": 7,
   "metadata": {},
   "outputs": [],
   "source": [
    "def find_borders(block_array): #used in borders_on_the_frame\n",
    "    borders = np.zeros((block_array.shape[0],block_array.shape[1]),dtype='int16')\n",
    "    count_neighbours=0\n",
    "    neighbours_color=0\n",
    "    for i in range(block_array.shape[0]):\n",
    "        for j in range(block_array.shape[1]):\n",
    "            if i-1 > 0 and block_array[i-1][j] > 0:\n",
    "                count_neighbours+=1\n",
    "                neighbours_color=block_array[i-1][j]\n",
    "            if j-1 > 0 and block_array[i][j-1] > 0:\n",
    "                count_neighbours+=1\n",
    "                neighbours_color=block_array[i][j-1]\n",
    "            if i+1 < block_array.shape[0] and block_array[i+1][j] > 0:\n",
    "                count_neighbours+=1\n",
    "                neighbours_color=block_array[i+1][j]\n",
    "            if j+1 < block_array.shape[1] and block_array[i][j+1] > 0:\n",
    "                count_neighbours+=1\n",
    "                neighbours_color=block_array[i][j+1]\n",
    "            if 0 < count_neighbours < 4:\n",
    "                borders[i][j]=neighbours_color\n",
    "            count_neighbours=0\n",
    "            neighbours_color=0\n",
    "    return borders\n",
    "\n",
    "def colors(width, height): #used in set_colors()\n",
    "    random_color = lambda: (int(random()*255), int(random()*255), int(random()*255))\n",
    "    colors = [random_color() for i in range(width*height)]\n",
    "    return colors\n",
    "\n",
    "def set_colors(block_map, colors): #used in borders_on_the_frame\n",
    "    width = block_map.shape[0]\n",
    "    height = block_map.shape[1]\n",
    "    colored_map = np.zeros((width,height,3), dtype='int16')\n",
    "    for j in range(height):\n",
    "        for i in range(width):\n",
    "            colored_map[i][j] = colors[int(block_map[i][j])]\n",
    "    return colored_map"
   ]
  },
  {
   "cell_type": "code",
   "execution_count": 8,
   "metadata": {},
   "outputs": [],
   "source": [
    "def show_final_frame(FD, i, colors):\n",
    "    f1=plt.title(f\"{i+1}. frame - {len(FD[i].objects)} objects\")\n",
    "    f1=plt.imshow(FD[i].borders_on_frame(colors))\n",
    "    plt.show()\n",
    "    \n",
    "def show_match_frame(FD, i, colors):\n",
    "     return FD[i].borders_on_frame(colors) "
   ]
  },
  {
   "cell_type": "markdown",
   "metadata": {},
   "source": [
    "### 7. Extract information about frames"
   ]
  },
  {
   "cell_type": "markdown",
   "metadata": {},
   "source": [
    "We define special class for our objects. Each object has three attributes: \n",
    "- index - It is color assigned to object which is key in boxes distionary for the frame. It is unique as it is index of detected object.\n",
    "- size - It gives us information how many blocks our object contains.\n",
    "- position - We represent objects mainly by their position: center of mass of the object."
   ]
  },
  {
   "cell_type": "code",
   "execution_count": 9,
   "metadata": {},
   "outputs": [],
   "source": [
    "class Object:\n",
    "    def __init__(self, index, size, position=None):\n",
    "                \n",
    "        self.index = index\n",
    "        self.size = size\n",
    "        self.position = position"
   ]
  },
  {
   "cell_type": "markdown",
   "metadata": {},
   "source": [
    "We also define special class for data of our frames. Each class element has four attributes: \n",
    "- objects - list of objects detected on the frame \n",
    "- boxes - dictionary with colors as keys and pixels assigned to the color as values\n",
    "- frame - current frame\n",
    "\n",
    "This class is quite big as we perform a lot of operations on frames. Let's go through its functions:\n",
    "\n",
    "- list_of_indices() - return all indices (colors, keys) assigned to objects\n",
    "- smallest_missing_key() - return smallest key/color which is not in use\n",
    "- set_positions() - finds coordinates of mass of center of objects\n",
    "- array_boxes(), reconstruct_array(), borders_on_the_frame() - functions needed to present effects of object's tracking\n",
    "- add_objects(), update_add() - to create empty objects. Our goal is to have two sets of vertices of bipartite graph with the same cardinality at each step of algorithm.\n",
    "- change_frame() - to apply changes resulting from the matching. It changes color assigned to the object and the blocks. Because we change both of those things we do not have to worry about changing size.\n",
    "- update_remove() - to delete empty objects (There is additional condition in the function which has nothing in common with being empty.There are cases when adjacent frames have diffent keys/colors. Then previous function during making changes could remain some object with key which is not in use in the current frame but appeared in the previous one.).\n"
   ]
  },
  {
   "cell_type": "code",
   "execution_count": 10,
   "metadata": {},
   "outputs": [],
   "source": [
    "class Frame_Data:       \n",
    "    def __init__(self, blocks_data, list_boxes, frame):\n",
    "        keys =  list(blocks_data.keys())\n",
    "        self.objects = [Object(keys[i], blocks_data[i+1]) for i in range(len(blocks_data))].copy()\n",
    "        self.boxes = list_boxes.copy()\n",
    "        self.frame = frame.copy()\n",
    "        \n",
    "        \n",
    "    def list_of_indices(self):\n",
    "        indices=[]\n",
    "        for obj in self.objects:\n",
    "            indices.append(obj.index)\n",
    "        return indices\n",
    "    \n",
    "    def smallest_missing_key(self):\n",
    "        key=1\n",
    "        keys = self.boxes.keys()\n",
    "        while (True):\n",
    "            if key in keys:\n",
    "                key+=1\n",
    "            else:\n",
    "                return key\n",
    "            \n",
    "            \n",
    "    def set_positions(self): \n",
    "        for key, points in self.boxes.items():\n",
    "            array = np.zeros(self.frame.size) \n",
    "            for point in points:\n",
    "                array[point]=1\n",
    "            self.objects[self.list_of_indices().index(key)].position = ndimage.measurements.center_of_mass(array)              \n",
    "    \n",
    "    \n",
    "    def array_boxes(self):\n",
    "        array = np.zeros(self.frame.size)\n",
    "        for key in self.boxes.keys():\n",
    "            for pixels in self.boxes[key]:\n",
    "                array[pixels]=key\n",
    "        return array\n",
    "            \n",
    "    def reconstruct_array(self):\n",
    "        blocks=self.array_boxes()\n",
    "        shape=self.frame.size\n",
    "        frame_array = np.zeros((shape[1],shape[0]), dtype='int16')\n",
    "        for index,block in np.ndenumerate(blocks):\n",
    "            if block > 0: \n",
    "                for i in range(8*index[0], min(shape[1], 8*index[0]+8)):\n",
    "                    for j in range(8*index[1], min(shape[0], 8*index[1]+8)):\n",
    "                        frame_array[i][j]=block\n",
    "        return frame_array\n",
    "    \n",
    "    def borders_on_frame(self, colors):\n",
    "        borders_map = find_borders(self.reconstruct_array())    \n",
    "        shape=self.frame.size\n",
    "        frame_array = np.array(self.frame, dtype='int16')\n",
    "        colored_borders=set_colors(borders_map, colors)\n",
    "        for i in range(shape[1]):\n",
    "            for j in range(shape[0]):\n",
    "                if borders_map[i][j]>0:\n",
    "                    frame_array[i][j]=colored_borders[i][j]\n",
    "        return frame_array\n",
    "            \n",
    "            \n",
    "    def add_objects(self, object_list): #adding new objects which are in the object_list\n",
    "        for new in object_list:\n",
    "            self.objects.append(new)  \n",
    "            \n",
    "    def update_add(self, card): \n",
    "        for i in range(len(self.boxes), card):\n",
    "            key = self.smallest_missing_key()\n",
    "            self.add_objects([Object(key, 0)])\n",
    "            self.boxes[key]=[]\n",
    " \n",
    "    def change_frame(self, boxes, matching): \n",
    "        for ind, pair in enumerate(matching): \n",
    "            self.boxes[pair[0]] = boxes[pair[1]]\n",
    "            self.objects[pair[1]-1].index = pair[0]    \n",
    "            \n",
    "    def update_remove(self): #remove too much boxes\n",
    "        self.boxes = {key:val for key, val in self.boxes.items() if ( val != [] and key in self.list_of_indices() )}\n",
    "        self.objects = [ obj for obj in self.objects if obj.size!=0]  "
   ]
  },
  {
   "cell_type": "markdown",
   "metadata": {},
   "source": [
    "### 8. Get the matching between adjacent frames"
   ]
  },
  {
   "cell_type": "markdown",
   "metadata": {},
   "source": [
    "There we have the last class responsible for matching. Each matching has three attributes:\n",
    "- X_set - objects from previous frame\n",
    "- Y_set - objects from current frame\n",
    "- set_card - cardinality of bigger of sets. In our approach both sets of objects are the same size.\n",
    "\n",
    "We have only two functions in this class:\n",
    "- create_cost_matrix() - It creates a matrix which has objects of previous frame as rows and objects of current frame as columns. Values are distances between positions of objects on adjacent frames. Distance to empty object is always 0.\n",
    "- find_matching() - This function creates a cost matrix using function mentioned above. Then using Hungarian Algorithm it computes the matching."
   ]
  },
  {
   "cell_type": "code",
   "execution_count": 11,
   "metadata": {},
   "outputs": [],
   "source": [
    "class Matching:\n",
    "    def __init__(self, FD1, FD2):\n",
    "        self.X_set = FD1.objects.copy()\n",
    "        self.Y_set = FD2.objects.copy()\n",
    "        self.set_card = max(len(FD1.objects), len(FD2.objects))\n",
    "\n",
    "    def create_cost_matrix(self):\n",
    "        card = self.set_card\n",
    "        cost_matrix = np.zeros((card, card))\n",
    "        for i in range(card):\n",
    "            for j in range(card):\n",
    "                value=0.00\n",
    "                if (self.X_set[i].size != 0) and (self.Y_set[j].size != 0):\n",
    "                    for k in [0,1]:\n",
    "                        value += (self.X_set[i].position[k] - self.Y_set[j].position[k])**2\n",
    "                cost_matrix[i][j] = round(math.sqrt(value),3)\n",
    "        return cost_matrix\n",
    "        \n",
    "    def find_matching(self):\n",
    "        C = self.create_cost_matrix()\n",
    "        m = munkres.Munkres()\n",
    "        indexes = m.compute(C)\n",
    "        return indexes"
   ]
  },
  {
   "cell_type": "markdown",
   "metadata": {},
   "source": [
    "### 9. Pipeline"
   ]
  },
  {
   "cell_type": "markdown",
   "metadata": {},
   "source": [
    "The main algorithm at each step creates segmented image, blocks and boxes. We do not do this at once to do not make user wait so long for first effects. When we consider current and previous frames, we add empty objects to make their cardinalities the same (and also the smallest possible, we do not add as many objects as we want). Then we find a matching between frames and update it with keys/colors of objects. Then we apply the changes based on the matching. Finally, we remove empty objects and set positions of the objects on the current frame (as it will be in use in the next step as the previous frame)."
   ]
  },
  {
   "cell_type": "code",
   "execution_count": 36,
   "metadata": {},
   "outputs": [],
   "source": [
    "def prepare_frame(i, start_frame):\n",
    "    segment = two_cc.two_connected_components(frames[i],channel=\"red\",thresh=86)\n",
    "    blocks = construct_blocks(segment)\n",
    "    count_boxes, list_boxes = connected_blocks(blocks)\n",
    "    return Frame_Data(count_boxes,list_boxes, frames[i+start_frame])  "
   ]
  },
  {
   "cell_type": "code",
   "execution_count": 37,
   "metadata": {},
   "outputs": [],
   "source": [
    "def pipeline_final(start_frame, end_frame):\n",
    "    width, height = math.ceil(frames[0].size[0]/8), math.ceil(frames[0].size[1]/8)\n",
    "    diameter = math.sqrt(width**2 + height**2)\n",
    "    color = colors(width, height)\n",
    "    FD, matchings = [], []\n",
    "    for i in range(start_frame, end_frame):\n",
    "        frame = dask.delayed(prepare_frame)(i, start_frame)\n",
    "        FD.append(frame)\n",
    "    FD = dask.compute(*FD,  scheduler='multiprocessing')\n",
    "    for i in range(end_frame-start_frame):\n",
    "        FD[i].set_positions()\n",
    "        if i > 0:\n",
    "            card = max(len(FD[i-1].boxes), len(FD[i].boxes))\n",
    "            FD[i-1].update_add( card)\n",
    "            FD[i].update_add( card)    \n",
    "            M = Matching(FD[i-1], FD[i]) \n",
    "            matching = M.find_matching()\n",
    "            matching = update_matching(FD[i-1], matching)\n",
    "            boxes = FD[i].boxes.copy()\n",
    "            FD[i].change_frame(boxes, matching)\n",
    "            FD[i].update_remove()\n",
    "            FD[i].set_positions()\n",
    "#         show_final_frame(FD, i, color)\n",
    "        matchings.append(show_match_frame(FD, i, color))\n",
    "    return matchings"
   ]
  },
  {
   "cell_type": "markdown",
   "metadata": {},
   "source": [
    "### 10. Get the objects on the frames (after matching)"
   ]
  },
  {
   "cell_type": "code",
   "execution_count": 38,
   "metadata": {},
   "outputs": [],
   "source": [
    "start_frame = 0\n",
    "end_frame = 10"
   ]
  },
  {
   "cell_type": "code",
   "execution_count": 39,
   "metadata": {},
   "outputs": [
    {
     "name": "stdout",
     "output_type": "stream",
     "text": [
      "162.7147936820984\n"
     ]
    }
   ],
   "source": [
    "start = time.time()\n",
    "matchings = pipeline_final(start_frame, end_frame)\n",
    "end = time.time()\n",
    "print(end-start)"
   ]
  },
  {
   "cell_type": "markdown",
   "metadata": {},
   "source": [
    "### 11. Save matched frames"
   ]
  },
  {
   "cell_type": "code",
   "execution_count": 40,
   "metadata": {},
   "outputs": [],
   "source": [
    "for i in range(start_frame, end_frame):\n",
    "    cv2.imwrite(\".\\matched\\match%d.jpg\" % i, np.float32(matchings[i]) )   "
   ]
  },
  {
   "cell_type": "markdown",
   "metadata": {},
   "source": [
    "### 12. Create a tracking movie"
   ]
  },
  {
   "cell_type": "markdown",
   "metadata": {},
   "source": [
    "The best way to show effects of tracking is to join frames after matching into one movie."
   ]
  },
  {
   "cell_type": "code",
   "execution_count": 41,
   "metadata": {},
   "outputs": [],
   "source": [
    "def get_original_labeled_frame(matchings, original_frame):\n",
    "    original_frame_array = np.array(original_frame)\n",
    "    original_labeled_frame = np.zeros(original_frame_array.shape, dtype='int16')\n",
    "    for i in range(original_labeled_frame.shape[0]):\n",
    "        for j in range(original_labeled_frame.shape[1]):\n",
    "            for k in range(original_labeled_frame.shape[2]):\n",
    "                if upper_left_y < i and i < lower_right_y and upper_left_x < j and j < lower_right_x:\n",
    "                    original_labeled_frame[i][j][k] = matchings[i - upper_left_y][j - upper_left_x][k]\n",
    "                else:\n",
    "                    original_labeled_frame[i][j][k] = original_frame_array[i][j][k]\n",
    "    return original_labeled_frame"
   ]
  },
  {
   "cell_type": "code",
   "execution_count": 42,
   "metadata": {},
   "outputs": [],
   "source": [
    "pathOut = 'tracking_video.mkv'\n",
    "tracking_movie = cv2.VideoWriter(pathOut, apiPreference=0, fourcc = cv2.VideoWriter_fourcc(*'DIVX'), fps=15, frameSize=original_frames[0].size)\n",
    "for i in range(end_frame-start_frame):\n",
    "    x = get_original_labeled_frame(matchings[i], original_frames[i])\n",
    "    tracking_movie.write(np.uint8(x))\n",
    "tracking_movie.release()"
   ]
  },
  {
   "cell_type": "markdown",
   "metadata": {},
   "source": [
    "### 13. Some examples"
   ]
  },
  {
   "cell_type": "code",
   "execution_count": null,
   "metadata": {},
   "outputs": [],
   "source": [
    "def show_adjacent_matched_frames(matchings, i, colors):\n",
    "    f=plt.figure(figsize=(11,5))\n",
    "    f1=f.add_subplot(1,2,1)\n",
    "    f1=plt.title(f\"{i}. frame\")\n",
    "    f1=plt.imshow(matchings[i])\n",
    "    f2=f.add_subplot(1,2,2)\n",
    "    f2=plt.title(f\"{i+1}. frame\")\n",
    "    f2=plt.imshow(matchings[i+1])\n",
    "    plt.show()"
   ]
  },
  {
   "cell_type": "code",
   "execution_count": null,
   "metadata": {},
   "outputs": [],
   "source": [
    "show_adjacent_matched_frames(matchings, 5, colors)"
   ]
  }
 ],
 "metadata": {
  "kernelspec": {
   "display_name": "Python 3",
   "language": "python",
   "name": "python3"
  },
  "language_info": {
   "codemirror_mode": {
    "name": "ipython",
    "version": 3
   },
   "file_extension": ".py",
   "mimetype": "text/x-python",
   "name": "python",
   "nbconvert_exporter": "python",
   "pygments_lexer": "ipython3",
   "version": "3.7.0"
  }
 },
 "nbformat": 4,
 "nbformat_minor": 2
}

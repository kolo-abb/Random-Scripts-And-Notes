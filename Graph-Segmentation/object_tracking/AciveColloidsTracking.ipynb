{
 "cells": [
  {
   "cell_type": "markdown",
   "metadata": {},
   "source": [
    "Based on **Graph Based Approaches for Image Segmentation and Object Tracking**, Xiaofang Wang, September 2014.\n",
    "\n"
   ]
  },
  {
   "cell_type": "markdown",
   "metadata": {},
   "source": [
    "Imports"
   ]
  },
  {
   "cell_type": "code",
   "execution_count": 1,
   "metadata": {},
   "outputs": [],
   "source": [
    "import pandas as pd\n",
    "import numpy as np"
   ]
  },
  {
   "cell_type": "markdown",
   "metadata": {},
   "source": [
    "## Directed Acyclic Graph Construction"
   ]
  },
  {
   "cell_type": "markdown",
   "metadata": {},
   "source": [
    "+ $D = (V,A)$,\n",
    "\n",
    "+ $V = F_1 \\cup F_2 \\ldots F_n$, where $n$ is a number of frames,\n",
    "\n",
    "+ $(u,v) \\in A \\iff u \\in F_l,\\ v \\in F_{l+1}$ for some $l \\in \\{1, \\ldots, n-1\\}$ and $dist(u,v) \\leq d_{max}$ (we consider Euclidean distance since $u = (x_1, y_1)$ and $v = (x_2, y_2)$ - coordinates of segments' centroids).\n",
    "\n",
    "Possible situations:\n",
    "1. $v \\in F_k$ has no neighbour in $F_{k+1}$,\n",
    "2. $v \\in F_k$ has exactly one neighbour in $F_{k+1}$,\n",
    "3. $v \\in F_k$ has more than one neighbour in $F_{k+1}$,\n",
    "4. $v, u \\in F_k,\\ v \\neq u$ has the same neighbour $w \\in F_{k+1}$,"
   ]
  },
  {
   "cell_type": "code",
   "execution_count": 2,
   "metadata": {},
   "outputs": [],
   "source": [
    "# TODO\n",
    "# miejsce na schemat - rysunek z kolejnymi frame'ami, segmentami i połączeniami między nimi"
   ]
  },
  {
   "cell_type": "markdown",
   "metadata": {},
   "source": [
    "Hyperparameters"
   ]
  },
  {
   "cell_type": "code",
   "execution_count": 3,
   "metadata": {},
   "outputs": [],
   "source": [
    "# d_max = ? # dist max -> dlugosc przekatnej frame'a?\n",
    "# number_of_frames = ?"
   ]
  },
  {
   "cell_type": "markdown",
   "metadata": {},
   "source": [
    "Utils"
   ]
  },
  {
   "cell_type": "code",
   "execution_count": 4,
   "metadata": {},
   "outputs": [],
   "source": [
    "def get_arc_weight(node1, node2, d_max):\n",
    "    # node = (x,y)\n",
    "    dist = np.linalg.norm(node1 - node2)\n",
    "    return dist / d_max"
   ]
  },
  {
   "cell_type": "markdown",
   "metadata": {},
   "source": [
    "## Graph refinement"
   ]
  },
  {
   "cell_type": "markdown",
   "metadata": {},
   "source": [
    "Methods:\n",
    "1. **Configuration I (PI)** - case of missing connection - this can be easily fixed by simply increasing the search range until a neighborhood is found.\n",
    "\n",
    "\n",
    "2. **Configuration II (PII)** - case where one node connects to two neighbors which are far from each other.  Link with the most distant node is removed from the graph. Let us emphasize that in case a node has more than three neighbors, only the most distant onis removed.\n",
    "\n",
    "\n",
    "3. **Configuration III (PIII)** - another conflicting situation where two nodes are connected to the same neighbor in $F_{k+1}$. If only one of the node has more than two neighbors then its connection with the common neighbor is removed. If both nodes have more than two neighbors, the longest connection with the common neighbor is removed.\n",
    "\n",
    "Notice that after these procedures we get a graph that still can have redundant connections. It is shown that repeating above steps of reduction does not improve the result significantly."
   ]
  },
  {
   "cell_type": "markdown",
   "metadata": {},
   "source": [
    "## Full Trajectories via Min-cost/max Flow"
   ]
  },
  {
   "cell_type": "markdown",
   "metadata": {},
   "source": [
    "We expand directed graph $D$ in the following manner:\n",
    "+ $V := V \\cup \\{s, t\\}$,\n",
    "+ every arc $(u,v)$ has unit capacity $c$,\n",
    "+ $f_{uv}$ is a volume of flow from $u$ to $v$ along $e_{uv}$, $f_{uv} \\in [0,1]$ or $f_{uv} \\in [-1,0]$, when $(u,v)$ is negatively oriented,\n",
    "+ $w_{uv}$ is a cost per unit flow on $e_{uv}$, namely: $w_{uv} = dist(u,v) / d_max$,\n",
    "+ edges from $s$ or to $t$ has no cost,\n",
    "+ sum of inflow and outflow volumes are equal at each node except $s$ and $t$.\n",
    "\n",
    "Sending a volume $m$ of a circulation flow from $s$ to $t$, and looking for the flow\n",
    "repartition along the graph with minimal cost is equivalent to solving the following\n",
    "problem [Ahuja et al., 1993]:\n",
    "\n",
    "<center>argmin$_f \\sum_{(u,v) \\in A} w_{uv} f_{uv}$</center>"
   ]
  },
  {
   "cell_type": "code",
   "execution_count": null,
   "metadata": {},
   "outputs": [],
   "source": []
  }
 ],
 "metadata": {
  "kernelspec": {
   "display_name": "Python 3",
   "language": "python",
   "name": "python3"
  },
  "language_info": {
   "codemirror_mode": {
    "name": "ipython",
    "version": 3
   },
   "file_extension": ".py",
   "mimetype": "text/x-python",
   "name": "python",
   "nbconvert_exporter": "python",
   "pygments_lexer": "ipython3",
   "version": "3.6.8"
  }
 },
 "nbformat": 4,
 "nbformat_minor": 2
}

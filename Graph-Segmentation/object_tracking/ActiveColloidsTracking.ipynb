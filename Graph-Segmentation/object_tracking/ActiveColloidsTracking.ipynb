{
 "cells": [
  {
   "cell_type": "markdown",
   "metadata": {},
   "source": [
    "Based on **Graph Based Approaches for Image Segmentation and Object Tracking**, Xiaofang Wang, September 2014.\n",
    "\n"
   ]
  },
  {
   "cell_type": "markdown",
   "metadata": {},
   "source": [
    "Imports"
   ]
  },
  {
   "cell_type": "code",
   "execution_count": 1,
   "metadata": {},
   "outputs": [],
   "source": [
    "import pandas as pd\n",
    "import numpy as np\n",
    "import matplotlib.pyplot as plt\n",
    "import math\n",
    "import networkx as nx"
   ]
  },
  {
   "cell_type": "markdown",
   "metadata": {},
   "source": [
    "## Directed Acyclic Graph Construction"
   ]
  },
  {
   "cell_type": "markdown",
   "metadata": {},
   "source": [
    "+ $D = (V,A)$,\n",
    "\n",
    "+ $V = F_1 \\cup F_2 \\ldots F_n$, where $n$ is a number of frames,\n",
    "\n",
    "+ $(u,v) \\in A \\iff u \\in F_l,\\ v \\in F_{l+1}$ for some $l \\in \\{1, \\ldots, n-1\\}$ and $dist(u,v) \\leq d_{max}$ (we consider Euclidean distance since $u = (x_1, y_1)$ and $v = (x_2, y_2)$ - coordinates of segments' centroids).\n",
    "\n",
    "Possible situations:\n",
    "1. $v \\in F_k$ has no neighbor in $F_{k+1}$,\n",
    "2. $v \\in F_k$ has exactly one neighbor in $F_{k+1}$,\n",
    "3. $v \\in F_k$ has more than one neighbor in $F_{k+1}$,\n",
    "4. $v, u \\in F_k,\\ v \\neq u$ has the same neighbor $w \\in F_{k+1}$,"
   ]
  },
  {
   "cell_type": "code",
   "execution_count": null,
   "metadata": {},
   "outputs": [],
   "source": [
    "# TODO\n",
    "# miejsce na schemat - rysunek z kolejnymi frame'ami, segmentami i połączeniami między nimi"
   ]
  },
  {
   "cell_type": "markdown",
   "metadata": {},
   "source": [
    "Hyperparameters"
   ]
  },
  {
   "cell_type": "code",
   "execution_count": null,
   "metadata": {},
   "outputs": [],
   "source": [
    "# d_max = ? # dist max -> dlugosc przekatnej frame'a?\n",
    "# number_of_frames = ?"
   ]
  },
  {
   "cell_type": "markdown",
   "metadata": {},
   "source": [
    "Utils"
   ]
  },
  {
   "cell_type": "code",
   "execution_count": 2,
   "metadata": {},
   "outputs": [],
   "source": [
    "def get_arc_weight(vertex1, vertex2, d_max):\n",
    "    # vertex = (x,y,z), where x,y - coords, z - frame number\n",
    "    dist = np.linalg.norm(np.array(vertex1[:2]) - np.array(vertex2[:2]))\n",
    "    return dist / d_max"
   ]
  },
  {
   "cell_type": "markdown",
   "metadata": {},
   "source": [
    "## Graph refinement"
   ]
  },
  {
   "cell_type": "markdown",
   "metadata": {},
   "source": [
    "Methods:\n",
    "1. **Configuration I (PI)** - case of missing connection - this can be easily fixed by simply increasing the search range until a neighborhood is found.\n",
    "\n",
    "\n",
    "2. **Configuration II (PII)** - case where one node connects to two neighbors which are far from each other.  Link with the most distant node is removed from the graph. Let us emphasize that in case a node has more than three neighbors, only the most distant onis removed.\n",
    "\n",
    "\n",
    "3. **Configuration III (PIII)** - another conflicting situation where two nodes are connected to the same neighbor in $F_{k+1}$. If only one of the node has more than two neighbors then its connection with the common neighbor is removed. If both nodes have more than two neighbors, the longest connection with the common neighbor is removed.\n",
    "\n",
    "Notice that after these procedures we get a graph that still can have redundant connections. It is shown that repeating above steps of reduction does not improve the result significantly."
   ]
  },
  {
   "cell_type": "markdown",
   "metadata": {},
   "source": [
    "## Full Trajectories via Min-cost/max Flow"
   ]
  },
  {
   "cell_type": "markdown",
   "metadata": {},
   "source": [
    "We expand directed graph $D$ in the following manner:\n",
    "+ $V := V \\cup \\{s, t\\}$,\n",
    "+ every arc $(u,v)$ has unit capacity $c$,\n",
    "+ $f_{uv}$ is a volume of flow from $u$ to $v$ along $e_{uv}$, $f_{uv} \\in [0,1]$ or $f_{uv} \\in [-1,0]$ (when $(u,v)$ is negatively oriented), in general $f_{uv} = - f_{vu}$,\n",
    "+ $w_{uv}$ is a cost per unit flow on $e_{uv}$, namely: $w_{uv} = dist(u,v) / d_{max}$,\n",
    "+ edges from $s$ or to $t$ have no cost,\n",
    "+ sum of inflow and outflow volumes are equal at each node except $s$ and $t$.\n",
    "\n",
    "Sending a volume $m$ of a circulation flow from $s$ to $t$, and looking for the flow\n",
    "repartition along the graph with minimal cost is equivalent to solving the following\n",
    "problem [Ahuja et al., 1993]:\n",
    "\n",
    "<center>argmin$_f \\sum_{(u,v) \\in A} w_{uv} f_{uv}$</center>"
   ]
  },
  {
   "cell_type": "markdown",
   "metadata": {},
   "source": [
    "Initial graph refinement algorithm"
   ]
  },
  {
   "cell_type": "code",
   "execution_count": 3,
   "metadata": {},
   "outputs": [],
   "source": [
    "def get_num_frames(graph):\n",
    "    num_frames = -1\n",
    "    for vertex in graph:\n",
    "        if vertex[2] > num_frames:\n",
    "            num_frames = vertex[2]\n",
    "    return num_frames + 1 # frames indexing starts from 0"
   ]
  },
  {
   "cell_type": "code",
   "execution_count": 4,
   "metadata": {},
   "outputs": [],
   "source": [
    "def vertices_from_ith_frame(graph, i):\n",
    "    vertices = []\n",
    "    for vertex in graph:\n",
    "        if vertex[2] == i:\n",
    "            vertices.append(vertex)\n",
    "    return vertices"
   ]
  },
  {
   "cell_type": "code",
   "execution_count": 5,
   "metadata": {},
   "outputs": [],
   "source": [
    "def get_distance(vertex1, vertex2):\n",
    "    return np.linalg.norm(np.array(vertex1[:2]) - np.array(vertex2[:2]))"
   ]
  },
  {
   "cell_type": "code",
   "execution_count": 6,
   "metadata": {},
   "outputs": [],
   "source": [
    "def get_neighbors(vertex, vertices, d_max):\n",
    "    neighbors = []\n",
    "    for vertex2 in vertices:\n",
    "        if get_distance(vertex, vertex2) <= d_max:\n",
    "            neighbors.append(vertex2)\n",
    "    return neighbors"
   ]
  },
  {
   "cell_type": "code",
   "execution_count": 7,
   "metadata": {},
   "outputs": [],
   "source": [
    "def get_most_distant_neighbor(vertex, neighbors):\n",
    "    d_max = 0\n",
    "    most_distant_neighbor = neighbors[0]\n",
    "    for neighbor in neighbors:\n",
    "        if d_max < get_distance(vertex, neighbor):\n",
    "            d_max = get_distance(vertex, neighbor)\n",
    "            most_distant_neighbor = neighbor\n",
    "    return most_distant_neighbor"
   ]
  },
  {
   "cell_type": "code",
   "execution_count": 8,
   "metadata": {},
   "outputs": [],
   "source": [
    "def get_common_neighbors(vertex1, vertex2, vertices_from_next_frame, d_max):\n",
    "    neighbors1 = get_neighbors(vertex1, vertices_from_next_frame, d_max)\n",
    "    neighbors2 = get_neighbors(vertex2, vertices_from_next_frame, d_max)\n",
    "    return list(set(neighbors1).intersection(set(neighbors2)))"
   ]
  },
  {
   "cell_type": "code",
   "execution_count": 9,
   "metadata": {},
   "outputs": [],
   "source": [
    "def initial_graph_refinement(graph, dist_max, dist_border):\n",
    "    # graph.nodes consists of vertices as follows: (x,y,z), where x,y - are Cartesian coordinates,\n",
    "    # z -  frame's number\n",
    "    \n",
    "    num_frames = get_num_frames(graph)\n",
    "    \n",
    "    for i in range(num_frames - 1):\n",
    "        for vertex in vertices_from_ith_frame(graph, i):\n",
    "            neighbors = get_neighbors(vertex, vertices_from_ith_frame(graph, i + 1), dist_max)\n",
    "            # configuration I\n",
    "            if len(neighbors) == 0:\n",
    "                dist = dist_max\n",
    "                while len(neighbors) == 0 and dist < dist_border:\n",
    "                    dist = dist * 1.5\n",
    "                    neighbors = get_neighbors(vertex, vertices_from_ith_frame(graph, i + 1), dist_max)\n",
    "                if len(neighbors) > 0:\n",
    "                    graph.add_edge(vertex, neighbors[0])    \n",
    "            \n",
    "            # configuration II\n",
    "            if len(neighbors) > 1:\n",
    "                # simplified... just for now\n",
    "                neighbor = get_most_distant_neighbor(vertex, neighbors)\n",
    "                graph.remove_edge(vertex, neighbor)\n",
    "            \n",
    "            # configuration III\n",
    "            for vertex2 in vertices_from_ith_frame(graph, i):\n",
    "                neighbors = get_common_neighbors(vertex, vertex2, vertices_from_ith_frame(graph, i + 1), dist_max)\n",
    "                if vertex != vertex2 and len(neighbors) > 0:\n",
    "                    if len(get_neighbors(vertex, vertices_from_ith_frame(graph, i + 1), dist_max)) > 2 and len(get_neighbors(vertex2, vertices_from_ith_frame(graph, i + 1, dist_max))) <= 2: \n",
    "                        print(\"Removing\", vertex, \"-\", neighbors[0])\n",
    "                        graph.remove_edge(vertex, neighbors[0])\n",
    "                    elif len(get_neighbors(vertex2, vertices_from_ith_frame(graph, i + 1), dist_max)) > 2 and len(get_neighbors(vertex, vertices_from_ith_frame(graph, i + 1, dist_max))) <= 2: \n",
    "                        print(\"Removing\", vertex2, \"-\", neighbors[0])\n",
    "                        graph.remove_edge(vertex2, neighbors[0])\n",
    "                    else:\n",
    "                        dist1 = get_distance(vertex, neighbors[0])\n",
    "                        dist2 = get_distance(vertex2, neighbors[0])\n",
    "                        if dist1 > dist2: # trzeba przemyslec usuwanie...\n",
    "                            if (vertex, neighbors[0]) in graph.edges: ### uwaga - rozwazam po 2 razy te same pary..\n",
    "                                print(\"Removing\", vertex, \"-\", neighbors[0])\n",
    "                                graph.remove_edge(vertex, neighbors[0])\n",
    "                        else:\n",
    "                            if (vertex2, neighbors[0]) in graph.edges: ### uwaga - rozwazam po 2 razy te same pary..\n",
    "                                print(\"Removing\", vertex2, \"-\", neighbors[0])\n",
    "                                graph.remove_edge(vertex2, neighbors[0])\n",
    "                            \n",
    "        "
   ]
  },
  {
   "cell_type": "markdown",
   "metadata": {},
   "source": [
    "Example"
   ]
  },
  {
   "cell_type": "code",
   "execution_count": 10,
   "metadata": {},
   "outputs": [],
   "source": [
    "trace1 = [2 * x + 4 for x in range(10)]\n",
    "trace2 = [math.exp(0.1 * x) for x in range(10)]\n",
    "trace3 = [math.sin(x) - 3 for x in range(10)]"
   ]
  },
  {
   "cell_type": "code",
   "execution_count": 11,
   "metadata": {},
   "outputs": [
    {
     "data": {
      "text/plain": [
       "[<matplotlib.lines.Line2D at 0x7ff9b0d23da0>]"
      ]
     },
     "execution_count": 11,
     "metadata": {},
     "output_type": "execute_result"
    },
    {
     "data": {
      "image/png": "[encoded data removed]",
      "text/plain": [
       "<Figure size 432x288 with 1 Axes>"
      ]
     },
     "metadata": {
      "needs_background": "light"
     },
     "output_type": "display_data"
    }
   ],
   "source": [
    "plt.plot(range(10), trace1, 'r*')\n",
    "plt.plot(range(10), trace2, 'g*')\n",
    "plt.plot(range(10), trace3, 'b*')"
   ]
  },
  {
   "cell_type": "markdown",
   "metadata": {},
   "source": [
    "As we can see above there are 3 objects to track with 10 frames $([F_0,F_1,...,F_9])$."
   ]
  },
  {
   "cell_type": "code",
   "execution_count": 12,
   "metadata": {},
   "outputs": [],
   "source": [
    "num_frames = 10"
   ]
  },
  {
   "cell_type": "code",
   "execution_count": 13,
   "metadata": {},
   "outputs": [],
   "source": [
    "frames = []\n",
    "for i in range(num_frames):\n",
    "    frames.append([trace1[i], trace2[i], trace3[i]])"
   ]
  },
  {
   "cell_type": "markdown",
   "metadata": {},
   "source": [
    "Initial graph creation."
   ]
  },
  {
   "cell_type": "code",
   "execution_count": 14,
   "metadata": {},
   "outputs": [],
   "source": [
    "G = nx.DiGraph()"
   ]
  },
  {
   "cell_type": "code",
   "execution_count": 15,
   "metadata": {},
   "outputs": [],
   "source": [
    "# adding nodes\n",
    "for i in range(num_frames):\n",
    "    frame_number = i\n",
    "    G.add_node((i, trace1[i], frame_number), pos=(i, trace1[i]))\n",
    "    G.add_node((i, trace2[i], frame_number), pos=(i, trace2[i]))\n",
    "    G.add_node((i, trace3[i], frame_number), pos=(i, trace3[i]))"
   ]
  },
  {
   "cell_type": "code",
   "execution_count": 16,
   "metadata": {},
   "outputs": [],
   "source": [
    "# adding edges (arcs)\n",
    "d_max = 3\n",
    "for frame_number in range(num_frames - 1): # we set attributes for FF\n",
    "    for vertex1 in vertices_from_ith_frame(G, frame_number):\n",
    "        for vertex2 in vertices_from_ith_frame(G, frame_number + 1):\n",
    "            if get_distance(vertex1, vertex2) < d_max:\n",
    "                weight = int(10 * get_distance(vertex1, vertex2) / d_max) #####\n",
    "                G.add_edge(vertex1, vertex2, capacity=10, weight=weight)"
   ]
  },
  {
   "cell_type": "code",
   "execution_count": 17,
   "metadata": {},
   "outputs": [
    {
     "data": {
      "text/plain": [
       "10"
      ]
     },
     "execution_count": 17,
     "metadata": {},
     "output_type": "execute_result"
    }
   ],
   "source": [
    "get_num_frames(G)"
   ]
  },
  {
   "cell_type": "code",
   "execution_count": 18,
   "metadata": {},
   "outputs": [],
   "source": [
    "dist_border = 30 # should be a distnace between two the most distant vertices"
   ]
  },
  {
   "cell_type": "code",
   "execution_count": 19,
   "metadata": {},
   "outputs": [
    {
     "name": "stdout",
     "output_type": "stream",
     "text": [
      "[((0, 4, 0), (1, 6, 1)), ((0, 1.0, 0), (1, 1.1051709180756477, 1)), ((0, -3.0, 0), (1, -2.1585290151921033, 1)), ((1, 6, 1), (2, 8, 2)), ((1, 1.1051709180756477, 1), (2, 1.2214027581601699, 2)), ((1, -2.1585290151921033, 1), (2, -2.090702573174318, 2)), ((2, 8, 2), (3, 10, 3)), ((2, 1.2214027581601699, 2), (3, 1.3498588075760032, 3)), ((2, -2.090702573174318, 2), (3, -2.8588799919401326, 3)), ((3, 10, 3), (4, 12, 4)), ((3, 1.3498588075760032, 3), (4, 1.4918246976412703, 4)), ((3, -2.8588799919401326, 3), (4, -3.7568024953079284, 4)), ((4, 12, 4), (5, 14, 5)), ((4, 1.4918246976412703, 4), (5, 1.6487212707001282, 5)), ((4, -3.7568024953079284, 4), (5, -3.9589242746631386, 5)), ((5, 14, 5), (6, 16, 6)), ((5, 1.6487212707001282, 5), (6, 1.822118800390509, 6)), ((5, -3.9589242746631386, 5), (6, -3.279415498198926, 6)), ((6, 16, 6), (7, 18, 7)), ((6, 1.822118800390509, 6), (7, 2.0137527074704766, 7)), ((6, -3.279415498198926, 6), (7, -2.343013401281211, 7)), ((7, 18, 7), (8, 20, 8)), ((7, 2.0137527074704766, 7), (8, 2.225540928492468, 8)), ((7, -2.343013401281211, 7), (8, -2.010641753376618, 8)), ((8, 20, 8), (9, 22, 9)), ((8, 2.225540928492468, 8), (9, 2.45960311115695, 9)), ((8, -2.010641753376618, 8), (9, -2.5878815147582435, 9))]\n"
     ]
    }
   ],
   "source": [
    "# before\n",
    "print(G.edges)"
   ]
  },
  {
   "cell_type": "code",
   "execution_count": 20,
   "metadata": {},
   "outputs": [],
   "source": [
    "initial_graph_refinement(G, d_max, dist_border)"
   ]
  },
  {
   "cell_type": "code",
   "execution_count": 21,
   "metadata": {},
   "outputs": [
    {
     "name": "stdout",
     "output_type": "stream",
     "text": [
      "[((0, 4, 0), (1, 6, 1)), ((0, 1.0, 0), (1, 1.1051709180756477, 1)), ((0, -3.0, 0), (1, -2.1585290151921033, 1)), ((1, 6, 1), (2, 8, 2)), ((1, 1.1051709180756477, 1), (2, 1.2214027581601699, 2)), ((1, -2.1585290151921033, 1), (2, -2.090702573174318, 2)), ((2, 8, 2), (3, 10, 3)), ((2, 1.2214027581601699, 2), (3, 1.3498588075760032, 3)), ((2, -2.090702573174318, 2), (3, -2.8588799919401326, 3)), ((3, 10, 3), (4, 12, 4)), ((3, 1.3498588075760032, 3), (4, 1.4918246976412703, 4)), ((3, -2.8588799919401326, 3), (4, -3.7568024953079284, 4)), ((4, 12, 4), (5, 14, 5)), ((4, 1.4918246976412703, 4), (5, 1.6487212707001282, 5)), ((4, -3.7568024953079284, 4), (5, -3.9589242746631386, 5)), ((5, 14, 5), (6, 16, 6)), ((5, 1.6487212707001282, 5), (6, 1.822118800390509, 6)), ((5, -3.9589242746631386, 5), (6, -3.279415498198926, 6)), ((6, 16, 6), (7, 18, 7)), ((6, 1.822118800390509, 6), (7, 2.0137527074704766, 7)), ((6, -3.279415498198926, 6), (7, -2.343013401281211, 7)), ((7, 18, 7), (8, 20, 8)), ((7, 2.0137527074704766, 7), (8, 2.225540928492468, 8)), ((7, -2.343013401281211, 7), (8, -2.010641753376618, 8)), ((8, 20, 8), (9, 22, 9)), ((8, 2.225540928492468, 8), (9, 2.45960311115695, 9)), ((8, -2.010641753376618, 8), (9, -2.5878815147582435, 9))]\n"
     ]
    }
   ],
   "source": [
    "# after\n",
    "print(G.edges)"
   ]
  },
  {
   "cell_type": "code",
   "execution_count": 22,
   "metadata": {},
   "outputs": [],
   "source": [
    "# This digraph can be now extended for FF algorithm"
   ]
  },
  {
   "cell_type": "code",
   "execution_count": 23,
   "metadata": {},
   "outputs": [],
   "source": [
    "# new nodes\n",
    "source = (-1,-1,-1)\n",
    "G.add_node(source, pos=(-1,1)) # source\n",
    "sink = (-2,-2,-2)\n",
    "G.add_node(sink, pos=(10,1)) # sink"
   ]
  },
  {
   "cell_type": "code",
   "execution_count": 24,
   "metadata": {},
   "outputs": [],
   "source": [
    "# new edges\n",
    "for vertex in vertices_from_ith_frame(G, 0):\n",
    "    G.add_edge(source, vertex, capacity=10, weight=0)\n",
    "\n",
    "for vertex in vertices_from_ith_frame(G, get_num_frames(G) - 1):\n",
    "    G.add_edge(vertex, sink, capacity=10, weight=0)"
   ]
  },
  {
   "cell_type": "code",
   "execution_count": 25,
   "metadata": {},
   "outputs": [
    {
     "data": {
      "image/png": "[encoded data removed]",
      "text/plain": [
       "<Figure size 432x288 with 1 Axes>"
      ]
     },
     "metadata": {},
     "output_type": "display_data"
    }
   ],
   "source": [
    "pos = nx.get_node_attributes(G,'pos')\n",
    "nx.draw(G, pos)"
   ]
  },
  {
   "cell_type": "code",
   "execution_count": 26,
   "metadata": {},
   "outputs": [
    {
     "name": "stdout",
     "output_type": "stream",
     "text": [
      "((0, 4, 0), (1, 6, 1)) {'capacity': 10, 'weight': 7}\n",
      "((0, 1.0, 0), (1, 1.1051709180756477, 1)) {'capacity': 10, 'weight': 3}\n",
      "((0, -3.0, 0), (1, -2.1585290151921033, 1)) {'capacity': 10, 'weight': 4}\n",
      "((1, 6, 1), (2, 8, 2)) {'capacity': 10, 'weight': 7}\n",
      "((1, 1.1051709180756477, 1), (2, 1.2214027581601699, 2)) {'capacity': 10, 'weight': 3}\n",
      "((1, -2.1585290151921033, 1), (2, -2.090702573174318, 2)) {'capacity': 10, 'weight': 3}\n",
      "((2, 8, 2), (3, 10, 3)) {'capacity': 10, 'weight': 7}\n",
      "((2, 1.2214027581601699, 2), (3, 1.3498588075760032, 3)) {'capacity': 10, 'weight': 3}\n",
      "((2, -2.090702573174318, 2), (3, -2.8588799919401326, 3)) {'capacity': 10, 'weight': 4}\n",
      "((3, 10, 3), (4, 12, 4)) {'capacity': 10, 'weight': 7}\n",
      "((3, 1.3498588075760032, 3), (4, 1.4918246976412703, 4)) {'capacity': 10, 'weight': 3}\n",
      "((3, -2.8588799919401326, 3), (4, -3.7568024953079284, 4)) {'capacity': 10, 'weight': 4}\n",
      "((4, 12, 4), (5, 14, 5)) {'capacity': 10, 'weight': 7}\n",
      "((4, 1.4918246976412703, 4), (5, 1.6487212707001282, 5)) {'capacity': 10, 'weight': 3}\n",
      "((4, -3.7568024953079284, 4), (5, -3.9589242746631386, 5)) {'capacity': 10, 'weight': 3}\n",
      "((5, 14, 5), (6, 16, 6)) {'capacity': 10, 'weight': 7}\n",
      "((5, 1.6487212707001282, 5), (6, 1.822118800390509, 6)) {'capacity': 10, 'weight': 3}\n",
      "((5, -3.9589242746631386, 5), (6, -3.279415498198926, 6)) {'capacity': 10, 'weight': 4}\n",
      "((6, 16, 6), (7, 18, 7)) {'capacity': 10, 'weight': 7}\n",
      "((6, 1.822118800390509, 6), (7, 2.0137527074704766, 7)) {'capacity': 10, 'weight': 3}\n",
      "((6, -3.279415498198926, 6), (7, -2.343013401281211, 7)) {'capacity': 10, 'weight': 4}\n",
      "((7, 18, 7), (8, 20, 8)) {'capacity': 10, 'weight': 7}\n",
      "((7, 2.0137527074704766, 7), (8, 2.225540928492468, 8)) {'capacity': 10, 'weight': 3}\n",
      "((7, -2.343013401281211, 7), (8, -2.010641753376618, 8)) {'capacity': 10, 'weight': 3}\n",
      "((8, 20, 8), (9, 22, 9)) {'capacity': 10, 'weight': 7}\n",
      "((8, 2.225540928492468, 8), (9, 2.45960311115695, 9)) {'capacity': 10, 'weight': 3}\n",
      "((8, -2.010641753376618, 8), (9, -2.5878815147582435, 9)) {'capacity': 10, 'weight': 3}\n",
      "((9, 22, 9), (-2, -2, -2)) {'capacity': 10, 'weight': 0}\n",
      "((9, 2.45960311115695, 9), (-2, -2, -2)) {'capacity': 10, 'weight': 0}\n",
      "((9, -2.5878815147582435, 9), (-2, -2, -2)) {'capacity': 10, 'weight': 0}\n",
      "((-1, -1, -1), (0, 4, 0)) {'capacity': 10, 'weight': 0}\n",
      "((-1, -1, -1), (0, 1.0, 0)) {'capacity': 10, 'weight': 0}\n",
      "((-1, -1, -1), (0, -3.0, 0)) {'capacity': 10, 'weight': 0}\n"
     ]
    }
   ],
   "source": [
    "for edge in G.edges:\n",
    "    print(edge, G.get_edge_data(*edge))"
   ]
  },
  {
   "cell_type": "code",
   "execution_count": 27,
   "metadata": {},
   "outputs": [
    {
     "data": {
      "text/plain": [
       "(-1, -1, -1)"
      ]
     },
     "execution_count": 27,
     "metadata": {},
     "output_type": "execute_result"
    }
   ],
   "source": [
    "source"
   ]
  },
  {
   "cell_type": "code",
   "execution_count": 28,
   "metadata": {},
   "outputs": [
    {
     "data": {
      "text/plain": [
       "(-2, -2, -2)"
      ]
     },
     "execution_count": 28,
     "metadata": {},
     "output_type": "execute_result"
    }
   ],
   "source": [
    "sink"
   ]
  },
  {
   "cell_type": "code",
   "execution_count": 29,
   "metadata": {},
   "outputs": [],
   "source": [
    "# uwaga - wagi nie powinny byc floatami! - wtedy petla dziala w nieskonczonosc!\n",
    "resultFlowDict = nx.max_flow_min_cost(G, source, sink, capacity='capacity', weight='weight')"
   ]
  },
  {
   "cell_type": "markdown",
   "metadata": {},
   "source": [
    "The result is dictionary of dictionaries keyed by nodes such that **flowDict[u][v]** is the flow edge **(u,v)**."
   ]
  },
  {
   "cell_type": "code",
   "execution_count": 30,
   "metadata": {},
   "outputs": [
    {
     "data": {
      "text/plain": [
       "{(0, 4, 0): {(1, 6, 1): 10},\n",
       " (0, 1.0, 0): {(1, 1.1051709180756477, 1): 10},\n",
       " (0, -3.0, 0): {(1, -2.1585290151921033, 1): 10},\n",
       " (1, 6, 1): {(2, 8, 2): 10},\n",
       " (1, 1.1051709180756477, 1): {(2, 1.2214027581601699, 2): 10},\n",
       " (1, -2.1585290151921033, 1): {(2, -2.090702573174318, 2): 10},\n",
       " (2, 8, 2): {(3, 10, 3): 10},\n",
       " (2, 1.2214027581601699, 2): {(3, 1.3498588075760032, 3): 10},\n",
       " (2, -2.090702573174318, 2): {(3, -2.8588799919401326, 3): 10},\n",
       " (3, 10, 3): {(4, 12, 4): 10},\n",
       " (3, 1.3498588075760032, 3): {(4, 1.4918246976412703, 4): 10},\n",
       " (3, -2.8588799919401326, 3): {(4, -3.7568024953079284, 4): 10},\n",
       " (4, 12, 4): {(5, 14, 5): 10},\n",
       " (4, 1.4918246976412703, 4): {(5, 1.6487212707001282, 5): 10},\n",
       " (4, -3.7568024953079284, 4): {(5, -3.9589242746631386, 5): 10},\n",
       " (5, 14, 5): {(6, 16, 6): 10},\n",
       " (5, 1.6487212707001282, 5): {(6, 1.822118800390509, 6): 10},\n",
       " (5, -3.9589242746631386, 5): {(6, -3.279415498198926, 6): 10},\n",
       " (6, 16, 6): {(7, 18, 7): 10},\n",
       " (6, 1.822118800390509, 6): {(7, 2.0137527074704766, 7): 10},\n",
       " (6, -3.279415498198926, 6): {(7, -2.343013401281211, 7): 10},\n",
       " (7, 18, 7): {(8, 20, 8): 10},\n",
       " (7, 2.0137527074704766, 7): {(8, 2.225540928492468, 8): 10},\n",
       " (7, -2.343013401281211, 7): {(8, -2.010641753376618, 8): 10},\n",
       " (8, 20, 8): {(9, 22, 9): 10},\n",
       " (8, 2.225540928492468, 8): {(9, 2.45960311115695, 9): 10},\n",
       " (8, -2.010641753376618, 8): {(9, -2.5878815147582435, 9): 10},\n",
       " (9, 22, 9): {(-2, -2, -2): 10},\n",
       " (9, 2.45960311115695, 9): {(-2, -2, -2): 10},\n",
       " (9, -2.5878815147582435, 9): {(-2, -2, -2): 10},\n",
       " (-1, -1, -1): {(0, 4, 0): 10, (0, 1.0, 0): 10, (0, -3.0, 0): 10},\n",
       " (-2, -2, -2): {}}"
      ]
     },
     "execution_count": 30,
     "metadata": {},
     "output_type": "execute_result"
    }
   ],
   "source": [
    "resultFlowDict"
   ]
  },
  {
   "cell_type": "code",
   "execution_count": null,
   "metadata": {},
   "outputs": [],
   "source": []
  }
 ],
 "metadata": {
  "kernelspec": {
   "display_name": "Python 3",
   "language": "python",
   "name": "python3"
  },
  "language_info": {
   "codemirror_mode": {
    "name": "ipython",
    "version": 3
   },
   "file_extension": ".py",
   "mimetype": "text/x-python",
   "name": "python",
   "nbconvert_exporter": "python",
   "pygments_lexer": "ipython3",
   "version": "3.6.9"
  }
 },
 "nbformat": 4,
 "nbformat_minor": 2
}

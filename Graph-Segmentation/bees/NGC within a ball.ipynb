{
 "cells": [
  {
   "cell_type": "markdown",
   "metadata": {},
   "source": [
    "# Normalized graph cuts within ball\n",
    "\n",
    "Code was created with accordance to article by Wenbing Tao, Hai Jin, Yimin Zhang, Liman Liu, and Desheng Wang.\n",
    "<br>\n",
    "Link: https://ieeexplore.ieee.org/document/4604825"
   ]
  },
  {
   "cell_type": "code",
   "execution_count": 8,
   "metadata": {},
   "outputs": [],
   "source": [
    "from PIL import Image\n",
    "import numpy as np\n",
    "from matplotlib import pyplot as plt\n",
    "import math\n",
    "import time\n",
    "from datetime import timedelta\n",
    "from skimage import io, filters, measure\n",
    "from scipy import ndimage, spatial\n",
    "import networkx as nx"
   ]
  },
  {
   "cell_type": "code",
   "execution_count": 13,
   "metadata": {},
   "outputs": [],
   "source": [
    "# Graph does not need to be directed - we work directly only on ,,cut matrix\"\n",
    "# arr is array of image in grayscale (width x height) - it's elements are intenisities of pixels\n",
    "# I - sensivity of weights for intensity changes\n",
    "# X - sensivity of weights for spatial location between nodes\n",
    "\n",
    "# Define function finding median for correct quartile calculations\n",
    "\n",
    "def find_median(sorted_list):\n",
    "    indices = []\n",
    "\n",
    "    list_size = len(sorted_list)\n",
    "    median = 0\n",
    "\n",
    "    if list_size % 2 == 0:\n",
    "        indices.append(int(list_size / 2) - 1)  # -1 because index starts from 0\n",
    "        indices.append(int(list_size / 2))\n",
    "\n",
    "        median = (sorted_list[indices[0]] + sorted_list[indices[1]]) / 2\n",
    "        pass\n",
    "    else:\n",
    "        indices.append(int(list_size / 2))\n",
    "\n",
    "        median = sorted_list[indices[0]]\n",
    "        pass\n",
    "\n",
    "    return median, indices\n",
    "\n",
    "# Create cut matrix for an image\n",
    "\n",
    "def create_cut_matrix(arr, I, X, radius):\n",
    "    \n",
    "    M = np.zeros((256,256))\n",
    "    points = []\n",
    "    width = arr.shape[0]\n",
    "    height = arr.shape[1]\n",
    "    \n",
    "    for i in range(width):\n",
    "        for j in range(height):\n",
    "            points.append((i,j))\n",
    "            \n",
    "    points = np.asarray(points)\n",
    "    \n",
    "    Tree = spatial.KDTree(points, radius)\n",
    "    \n",
    "    def set_capacity(x1, y1, x2, y2, I, X):\n",
    "        \n",
    "        dist = spatial.distance.pdist([(x1,y1),(x2,y2)],'euclidean')\n",
    "        capacity = np.exp( - ((abs(arr[x1][y1] - arr[x2][y2]) / I + dist / X )) )\n",
    "    \n",
    "        return capacity\n",
    "\n",
    "    for x in points:\n",
    "        \n",
    "        idx = Tree.query_ball_point(x, radius)\n",
    "        for y in points[idx]:\n",
    "            \n",
    "            capacity = set_capacity(x[0], x[1], y[0], y[1], I, X)\n",
    "            M[arr[x[0]][x[1]]][arr[y[0]][y[1]]] += capacity\n",
    "            M[arr[y[0]][y[1]]][arr[x[0]][x[1]]] += capacity\n",
    "            \n",
    "    return M\n",
    "\n",
    "# Define function that returns optimal cut for given cut matrix M, threshold of cut t and minimal cut\n",
    "\n",
    "def get_NCut(t, M, NCut_min):\n",
    "    \n",
    "    cutAB = 0                                # cut with sets A and B\n",
    "    assoAA = 0                               # sum of weights between pixels in A\n",
    "    assoBB = 0                               # sum of weights between pixels in B\n",
    "    \n",
    "    for i in range(0,t+1):\n",
    "        for j in range(t+1,256):\n",
    "            cutAB += M[i][j]\n",
    "            \n",
    "    for i in range(0,t+1):\n",
    "        for j in range(i,t+1):\n",
    "            assoAA += M[i][j]\n",
    "            \n",
    "    for i in range(t+1,256):\n",
    "        for j in range(i,256):\n",
    "            assoBB += M[i][j]\n",
    "            \n",
    "    A = assoAA + cutAB\n",
    "    B = assoBB + cutAB\n",
    "    \n",
    "    if A != 0 and B != 0:\n",
    "        NCutAB = (cutAB / A) + (cutAB / B)    # get normalized cut\n",
    "    else:\n",
    "        NCutAB = NCut_min\n",
    "        \n",
    "    return NCutAB\n",
    "\n",
    "# Get optimal threshold that results in minimal normalized cut for given ,,cut matrix\" M \n",
    "\n",
    "def get_treshold(M):\n",
    "    \n",
    "    # Initialization\n",
    "    t = 0\n",
    "    t_min = 0\n",
    "    NCut_min = 2\n",
    "    \n",
    "    # Search for best treshold and cut\n",
    "    while t <= 255:\n",
    "        NCutAB = get_NCut(t, M, NCut_min)\n",
    "        if NCutAB < NCut_min:\n",
    "            NCut_min = NCutAB\n",
    "            t_min = t\n",
    "        t += 1\n",
    "        \n",
    "    return NCut_min, t_min\n",
    "\n",
    "# Process image with obtained threshold\n",
    "\n",
    "def treshold_image(arr, treshold):\n",
    "    \n",
    "    result = arr\n",
    "    width = arr.shape[0]\n",
    "    height = arr.shape[1]\n",
    "    \n",
    "    for i in range(width):\n",
    "        for j in range(height):\n",
    "            if arr[i][j] > treshold :\n",
    "                result[i][j] = 0\n",
    "            else:\n",
    "                result[i][j] = 1\n",
    "                \n",
    "    return result"
   ]
  },
  {
   "cell_type": "code",
   "execution_count": 14,
   "metadata": {},
   "outputs": [],
   "source": [
    "# Create graph ,,binary graph\" used for DFS search in thresholded image\n",
    "# reached == 0 => node was not reached during DFS \n",
    "# weight == 0 or 1 depending on image binary threshold \n",
    "\n",
    "def create_binary_graph(im_arr):\n",
    "    G = nx.Graph()\n",
    "    for i in range(im_arr.shape[0]):\n",
    "        for j in range(im_arr.shape[1]):\n",
    "            G.add_node((i,j), weight = im_arr[i][j], reached = 0)      \n",
    "            if i > 0:\n",
    "                G.add_edge((i,j),(i-1,j))  \n",
    "                if j > 0:\n",
    "                    G.add_edge((i-1,j-1),(i,j))\n",
    "                if j < im_arr.shape[0] - 1:\n",
    "                    G.add_edge((i-1,j+1),(i,j))\n",
    "            if j > 0:\n",
    "                G.add_edge((i,j),(i,j-1))\n",
    "    return G\n",
    "\n",
    "# Count different objects by colouring DFS trees for thresholded image\n",
    "\n",
    "def colouring_binary_picture(image_array):\n",
    "    \n",
    "    #Initialization\n",
    "    G = create_binary_graph(image_array)\n",
    "    result = image_array\n",
    "    colour = 50\n",
    "    stack = []\n",
    "    colours = []\n",
    "    \n",
    "    # DFS iterative way + colour assignment\n",
    "    for node in G.nodes():\n",
    "        counter = 0\n",
    "        if G.nodes[node]['reached'] == 0 and G.nodes[node]['weight'] == 1:\n",
    "            counter += 1\n",
    "            colour += 1\n",
    "            G.nodes[node]['reached'] = 1\n",
    "            result[node[0]][node[1]] = colour\n",
    "            stack.append(node)\n",
    "            while len(stack) != 0:\n",
    "                taken_node = stack.pop(0)\n",
    "                counter += 1\n",
    "                for neighbor in G.neighbors(taken_node):\n",
    "                    if G.nodes[neighbor]['reached'] == 0 and G.nodes[neighbor]['weight'] == 1:\n",
    "                        G.nodes[neighbor]['reached'] = 1\n",
    "                        result[neighbor[0]][neighbor[1]] = colour\n",
    "                        stack.append(neighbor)\n",
    "                 \n",
    "            colours.append([colour, counter])\n",
    "    \n",
    "    return colours, result\n",
    "           \n",
    "def find_outliners(colours):\n",
    "\n",
    "    values = []\n",
    "    outliners = []\n",
    "    \n",
    "    for x in colours:\n",
    "        values.append(x[1])\n",
    "\n",
    "    median, median_indices = find_median(sorted(values))\n",
    "    Q1, Q1_indices = find_median(sorted(values)[:median_indices[0]])\n",
    "    Q3, Q3_indices = find_median(sorted(values)[median_indices[-1] + 1:])\n",
    "    \n",
    "    for x in colours:\n",
    "        if Q1 < x[1] and x[1] < Q3 + 1.5 * (Q3 - Q1):\n",
    "            pass\n",
    "        else:\n",
    "            outliners.append(x[0])\n",
    "                \n",
    "    return outliners\n",
    "\n",
    "# Remove too small or too big objects \n",
    "# Note: All thresholds for saying that something is ,,big\" or ,,small\" are (for now!) assigned in experimental way\n",
    "#   Later I will try to set down an automatic threshold for such details\n",
    "\n",
    "def remove_banned_objects(colour_array, outliners):\n",
    "    \n",
    "    result = colour_array\n",
    "    \n",
    "    for i in range(colour_array.shape[0]):\n",
    "        for j in range(colour_array.shape[1]):\n",
    "            if colour_array[i][j] in outliners:\n",
    "                result[i][j] = 0\n",
    "                \n",
    "    return result"
   ]
  },
  {
   "cell_type": "code",
   "execution_count": 15,
   "metadata": {},
   "outputs": [],
   "source": [
    "# image is an unopened picture, I and X need to be specified by user (possible automatic detection ??)\n",
    "\n",
    "def pipeline(image, I, X, radius):\n",
    "    \n",
    "    im = Image.open(image).convert('L')\n",
    "    \n",
    "    im_arr = np.array(im, dtype='int64')    # int for possibility to iterate!\n",
    "    \n",
    "    # Threshold picture by cut matrix method\n",
    "    \n",
    "    M = create_cut_matrix(im_arr, I, X, radius)\n",
    "    \n",
    "    N, T = get_treshold(M)\n",
    "    \n",
    "    threshold_result = treshold_image(im_arr, T)\n",
    "    \n",
    "    # Process obtained picture for possibility to properly count the bees\n",
    "    \n",
    "    colours, colour_result = colouring_binary_picture(threshold_result)\n",
    "    \n",
    "    banned_colours = find_outliners(colours)\n",
    "    \n",
    "    result = remove_banned_objects(colour_result, banned_colours)\n",
    "    \n",
    "    # Number of bees equals to all different colours used minus colour \"0\" for the background\n",
    "    \n",
    "    unique_values = np.unique(result) \n",
    "    \n",
    "    counter = len(unique_values) - 1\n",
    "    \n",
    "    print('There are {} objects in the image.'.format(counter))\n",
    "    \n",
    "    return result"
   ]
  },
  {
   "cell_type": "code",
   "execution_count": 65,
   "metadata": {},
   "outputs": [
    {
     "name": "stdout",
     "output_type": "stream",
     "text": [
      "There are 25 objects in the image.\n",
      "Time of calcualtions: 0:02:58.062000\n"
     ]
    },
    {
     "data": {
      "text/plain": [
       "<matplotlib.image.AxesImage at 0x1e0755c1400>"
      ]
     },
     "execution_count": 65,
     "metadata": {},
     "output_type": "execute_result"
    },
    {
     "data": {
      "image/png": "[encoded data removed]",
      "text/plain": [
       "<Figure size 432x288 with 1 Axes>"
      ]
     },
     "metadata": {
      "needs_background": "light"
     },
     "output_type": "display_data"
    }
   ],
   "source": [
    "start_time = time.monotonic()\n",
    "result = pipeline('3.png', 625, 4, 4)\n",
    "end_time = time.monotonic()\n",
    "print('Time of calcualtions: {}'.format(timedelta(seconds = end_time - start_time)))\n",
    "plt.imshow(result)"
   ]
  },
  {
   "cell_type": "code",
   "execution_count": 22,
   "metadata": {},
   "outputs": [
    {
     "name": "stdout",
     "output_type": "stream",
     "text": [
      "There are 15 objects in the image.\n",
      "Time of calcualtions: 0:12:24.719000\n"
     ]
    },
    {
     "data": {
      "text/plain": [
       "<matplotlib.image.AxesImage at 0x1e9809ff668>"
      ]
     },
     "execution_count": 22,
     "metadata": {},
     "output_type": "execute_result"
    },
    {
     "data": {
      "image/png": "[encoded data removed]",
      "text/plain": [
       "<Figure size 432x288 with 1 Axes>"
      ]
     },
     "metadata": {
      "needs_background": "light"
     },
     "output_type": "display_data"
    }
   ],
   "source": [
    "start_time = time.monotonic()\n",
    "result = pipeline('2.png', 625, 4, 4)\n",
    "end_time = time.monotonic()\n",
    "print('Time of calcualtions: {}'.format(timedelta(seconds = end_time - start_time)))\n",
    "plt.imshow(result)"
   ]
  },
  {
   "cell_type": "code",
   "execution_count": 68,
   "metadata": {},
   "outputs": [
    {
     "name": "stdout",
     "output_type": "stream",
     "text": [
      "There are 18 objects in the image.\n",
      "Time of calcualtions: 0:06:35.891000\n"
     ]
    },
    {
     "data": {
      "text/plain": [
       "<matplotlib.image.AxesImage at 0x1e0725f7128>"
      ]
     },
     "execution_count": 68,
     "metadata": {},
     "output_type": "execute_result"
    },
    {
     "data": {
      "image/png": "[encoded data removed]",
      "text/plain": [
       "<Figure size 432x288 with 1 Axes>"
      ]
     },
     "metadata": {
      "needs_background": "light"
     },
     "output_type": "display_data"
    }
   ],
   "source": [
    "start_time = time.monotonic()\n",
    "result = pipeline('5.png', 625, 4, 4)\n",
    "end_time = time.monotonic()\n",
    "print('Time of calcualtions: {}'.format(timedelta(seconds = end_time - start_time)))\n",
    "plt.imshow(result)"
   ]
  },
  {
   "cell_type": "code",
   "execution_count": 69,
   "metadata": {},
   "outputs": [
    {
     "name": "stdout",
     "output_type": "stream",
     "text": [
      "There are 16 objects in the image.\n",
      "Time of calcualtions: 0:08:42.562000\n"
     ]
    },
    {
     "data": {
      "text/plain": [
       "<matplotlib.image.AxesImage at 0x1e0017e0f60>"
      ]
     },
     "execution_count": 69,
     "metadata": {},
     "output_type": "execute_result"
    },
    {
     "data": {
      "image/png": "[encoded data removed]",
      "text/plain": [
       "<Figure size 432x288 with 1 Axes>"
      ]
     },
     "metadata": {
      "needs_background": "light"
     },
     "output_type": "display_data"
    }
   ],
   "source": [
    "start_time = time.monotonic()\n",
    "result = pipeline('6.png', 625, 4, 4)\n",
    "end_time = time.monotonic()\n",
    "print('Time of calcualtions: {}'.format(timedelta(seconds = end_time - start_time)))\n",
    "plt.imshow(result)"
   ]
  },
  {
   "cell_type": "code",
   "execution_count": 71,
   "metadata": {},
   "outputs": [
    {
     "name": "stdout",
     "output_type": "stream",
     "text": [
      "There are 20 objects in the image.\n",
      "Time of calcualtions: 0:08:44.500000\n"
     ]
    },
    {
     "data": {
      "text/plain": [
       "<matplotlib.image.AxesImage at 0x1e0002e1320>"
      ]
     },
     "execution_count": 71,
     "metadata": {},
     "output_type": "execute_result"
    },
    {
     "data": {
      "image/png": "[encoded data removed]",
      "text/plain": [
       "<Figure size 432x288 with 1 Axes>"
      ]
     },
     "metadata": {
      "needs_background": "light"
     },
     "output_type": "display_data"
    }
   ],
   "source": [
    "start_time = time.monotonic()\n",
    "result = pipeline('7.png', 625, 4, 4)\n",
    "end_time = time.monotonic()\n",
    "print('Time of calcualtions: {}'.format(timedelta(seconds = end_time - start_time)))\n",
    "plt.imshow(result)"
   ]
  },
  {
   "cell_type": "code",
   "execution_count": 16,
   "metadata": {},
   "outputs": [
    {
     "name": "stdout",
     "output_type": "stream",
     "text": [
      "There are 145 objects in the image.\n",
      "Time of calcualtions: 0:21:09.609000\n"
     ]
    },
    {
     "data": {
      "text/plain": [
       "<matplotlib.image.AxesImage at 0x1e9f87d70f0>"
      ]
     },
     "execution_count": 16,
     "metadata": {},
     "output_type": "execute_result"
    },
    {
     "data": {
      "image/png": "[encoded data removed]",
      "text/plain": [
       "<Figure size 432x288 with 1 Axes>"
      ]
     },
     "metadata": {
      "needs_background": "light"
     },
     "output_type": "display_data"
    }
   ],
   "source": [
    "start_time = time.monotonic()\n",
    "result = pipeline('red_blood_cells.png', 625, 4, 4)\n",
    "end_time = time.monotonic()\n",
    "print('Time of calcualtions: {}'.format(timedelta(seconds = end_time - start_time)))\n",
    "plt.imshow(result)"
   ]
  },
  {
   "cell_type": "code",
   "execution_count": 18,
   "metadata": {},
   "outputs": [
    {
     "name": "stdout",
     "output_type": "stream",
     "text": [
      "There are 9 objects in the image.\n",
      "Time of calcualtions: 0:19:47.656000\n"
     ]
    },
    {
     "data": {
      "text/plain": [
       "<matplotlib.image.AxesImage at 0x1e9f6d206d8>"
      ]
     },
     "execution_count": 18,
     "metadata": {},
     "output_type": "execute_result"
    },
    {
     "data": {
      "image/png": "[encoded data removed]",
      "text/plain": [
       "<Figure size 432x288 with 1 Axes>"
      ]
     },
     "metadata": {
      "needs_background": "light"
     },
     "output_type": "display_data"
    }
   ],
   "source": [
    "start_time = time.monotonic()\n",
    "result = pipeline('7.png', 625, 0.6, 6)\n",
    "end_time = time.monotonic()\n",
    "print('Time of calcualtions: {}'.format(timedelta(seconds = end_time - start_time)))\n",
    "plt.imshow(result)"
   ]
  },
  {
   "cell_type": "code",
   "execution_count": 19,
   "metadata": {},
   "outputs": [
    {
     "name": "stdout",
     "output_type": "stream",
     "text": [
      "There are 9 objects in the image.\n",
      "Time of calcualtions: 0:09:17.672000\n"
     ]
    },
    {
     "data": {
      "text/plain": [
       "<matplotlib.image.AxesImage at 0x1e9f7dc5e80>"
      ]
     },
     "execution_count": 19,
     "metadata": {},
     "output_type": "execute_result"
    },
    {
     "data": {
      "image/png": "[encoded data removed]",
      "text/plain": [
       "<Figure size 432x288 with 1 Axes>"
      ]
     },
     "metadata": {
      "needs_background": "light"
     },
     "output_type": "display_data"
    }
   ],
   "source": [
    "start_time = time.monotonic()\n",
    "result = pipeline('7.png', 625, 6, 6)\n",
    "end_time = time.monotonic()\n",
    "print('Time of calcualtions: {}'.format(timedelta(seconds = end_time - start_time)))\n",
    "plt.imshow(result)"
   ]
  },
  {
   "cell_type": "code",
   "execution_count": 21,
   "metadata": {},
   "outputs": [
    {
     "name": "stdout",
     "output_type": "stream",
     "text": [
      "There are 9 objects in the image.\n",
      "Time of calcualtions: 0:06:21.531000\n"
     ]
    },
    {
     "data": {
      "text/plain": [
       "<matplotlib.image.AxesImage at 0x1e9809fd400>"
      ]
     },
     "execution_count": 21,
     "metadata": {},
     "output_type": "execute_result"
    },
    {
     "data": {
      "image/png": "[encoded data removed]",
      "text/plain": [
       "<Figure size 432x288 with 1 Axes>"
      ]
     },
     "metadata": {
      "needs_background": "light"
     },
     "output_type": "display_data"
    }
   ],
   "source": [
    "start_time = time.monotonic()\n",
    "result = pipeline('7.png', 1024, 800, 4)\n",
    "end_time = time.monotonic()\n",
    "print('Time of calcualtions: {}'.format(timedelta(seconds = end_time - start_time)))\n",
    "plt.imshow(result)"
   ]
  },
  {
   "cell_type": "code",
   "execution_count": null,
   "metadata": {},
   "outputs": [],
   "source": []
  }
 ],
 "metadata": {
  "kernelspec": {
   "display_name": "Python 3",
   "language": "python",
   "name": "python3"
  },
  "language_info": {
   "codemirror_mode": {
    "name": "ipython",
    "version": 3
   },
   "file_extension": ".py",
   "mimetype": "text/x-python",
   "name": "python",
   "nbconvert_exporter": "python",
   "pygments_lexer": "ipython3",
   "version": "3.7.1"
  }
 },
 "nbformat": 4,
 "nbformat_minor": 2
}

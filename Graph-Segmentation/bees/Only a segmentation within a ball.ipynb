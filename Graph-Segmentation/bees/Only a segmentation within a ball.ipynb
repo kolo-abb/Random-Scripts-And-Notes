{
 "cells": [
  {
   "cell_type": "markdown",
   "metadata": {},
   "source": [
    "# Normalized graph cuts within ball\n",
    "\n",
    "Code was created with accordance to article by Wenbing Tao, Hai Jin, Yimin Zhang, Liman Liu, and Desheng Wang.\n",
    "<br>\n",
    "Link: https://ieeexplore.ieee.org/document/4604825"
   ]
  },
  {
   "cell_type": "code",
   "execution_count": 3,
   "metadata": {},
   "outputs": [],
   "source": [
    "from PIL import Image\n",
    "import numpy as np\n",
    "from matplotlib import pyplot as plt\n",
    "import math\n",
    "import time\n",
    "from datetime import timedelta\n",
    "from skimage import io, filters, measure\n",
    "from scipy import ndimage, spatial\n",
    "import networkx as nx"
   ]
  },
  {
   "cell_type": "code",
   "execution_count": 4,
   "metadata": {},
   "outputs": [],
   "source": [
    "# Graph does not need to be directed - we work directly only on ,,cut matrix\"\n",
    "# arr is array of image in grayscale (width x height) - it's elements are intenisities of pixels\n",
    "# I - sensivity of weights for intensity changes\n",
    "# X - sensivity of weights for spatial location between nodes\n",
    "\n",
    "# Create cut matrix for an image\n",
    "\n",
    "def create_cut_matrix(arr, I, X, radius):\n",
    "    \n",
    "    M = np.zeros((256,256))\n",
    "    points = []\n",
    "    width = arr.shape[0]\n",
    "    height = arr.shape[1]\n",
    "    \n",
    "    for i in range(width):\n",
    "        for j in range(height):\n",
    "            points.append((i,j))\n",
    "            \n",
    "    points = np.asarray(points)\n",
    "    \n",
    "    Tree = spatial.KDTree(points, radius)\n",
    "    \n",
    "    def set_capacity(x1, y1, x2, y2, I, X):\n",
    "        \n",
    "        dist = spatial.distance.pdist([(x1,y1),(x2,y2)],'euclidean')\n",
    "        capacity = np.exp( - ((abs(arr[x1][y1] - arr[x2][y2]) / I + dist / X )) )\n",
    "    \n",
    "        return capacity\n",
    "\n",
    "    for x in points:\n",
    "        \n",
    "        idx = Tree.query_ball_point(x, radius)\n",
    "        for y in points[idx]:\n",
    "            \n",
    "            capacity = set_capacity(x[0], x[1], y[0], y[1], I, X)\n",
    "            M[arr[x[0]][x[1]]][arr[y[0]][y[1]]] += capacity\n",
    "            M[arr[y[0]][y[1]]][arr[x[0]][x[1]]] += capacity\n",
    "            \n",
    "    return M\n",
    "\n",
    "# Define function that returns optimal cut for given cut matrix M, threshold of cut t and minimal cut\n",
    "\n",
    "def get_NCut(t, M, NCut_min):\n",
    "    \n",
    "    cutAB = 0                                # cut with sets A and B\n",
    "    assoAA = 0                               # sum of weights between pixels in A\n",
    "    assoBB = 0                               # sum of weights between pixels in B\n",
    "    \n",
    "    for i in range(0,t+1):\n",
    "        for j in range(t+1,256):\n",
    "            cutAB += M[i][j]\n",
    "            \n",
    "    for i in range(0,t+1):\n",
    "        for j in range(i,t+1):\n",
    "            assoAA += M[i][j]\n",
    "            \n",
    "    for i in range(t+1,256):\n",
    "        for j in range(i,256):\n",
    "            assoBB += M[i][j]\n",
    "            \n",
    "    A = assoAA + cutAB\n",
    "    B = assoBB + cutAB\n",
    "    \n",
    "    if A != 0 and B != 0:\n",
    "        NCutAB = (cutAB / A) + (cutAB / B)    # get normalized cut\n",
    "    else:\n",
    "        NCutAB = NCut_min\n",
    "        \n",
    "    return NCutAB\n",
    "\n",
    "# Get optimal threshold that results in minimal normalized cut for given ,,cut matrix\" M \n",
    "\n",
    "def get_treshold(M):\n",
    "    \n",
    "    # Initialization\n",
    "    t = 0\n",
    "    t_min = 0\n",
    "    NCut_min = 2\n",
    "    \n",
    "    # Search for best treshold and cut\n",
    "    while t <= 255:\n",
    "        NCutAB = get_NCut(t, M, NCut_min)\n",
    "        if NCutAB < NCut_min:\n",
    "            NCut_min = NCutAB\n",
    "            t_min = t\n",
    "        t += 1\n",
    "        \n",
    "    return NCut_min, t_min\n",
    "\n",
    "# Process image with obtained threshold\n",
    "\n",
    "def treshold_image(arr, treshold):\n",
    "    \n",
    "    result = arr\n",
    "    width = arr.shape[0]\n",
    "    height = arr.shape[1]\n",
    "    \n",
    "    for i in range(width):\n",
    "        for j in range(height):\n",
    "            if arr[i][j] > treshold :\n",
    "                result[i][j] = 0\n",
    "            else:\n",
    "                result[i][j] = 1\n",
    "                \n",
    "    return result"
   ]
  },
  {
   "cell_type": "code",
   "execution_count": 13,
   "metadata": {},
   "outputs": [],
   "source": [
    "# image is an unopened picture, I and X need to be specified by user (possible automatic detection ??)\n",
    "\n",
    "def pipeline(image, I, X, radius):\n",
    "    \n",
    "    im = Image.open(image).convert('L')\n",
    "    \n",
    "    im_arr = np.array(im, dtype='int64')    # int for possibility to iterate!\n",
    "    \n",
    "    # Threshold picture by cut matrix method\n",
    "    \n",
    "    M = create_cut_matrix(im_arr, I, X, radius)\n",
    "    \n",
    "    N, T = get_treshold(M)\n",
    "    \n",
    "    result = treshold_image(im_arr, T)\n",
    "    \n",
    "    return result"
   ]
  },
  {
   "cell_type": "code",
   "execution_count": 6,
   "metadata": {},
   "outputs": [
    {
     "name": "stdout",
     "output_type": "stream",
     "text": [
      "There are 1 objects in the image.\n",
      "Time of calcualtions: 0:19:08.343000\n"
     ]
    },
    {
     "data": {
      "text/plain": [
       "<matplotlib.image.AxesImage at 0x20faed46390>"
      ]
     },
     "execution_count": 6,
     "metadata": {},
     "output_type": "execute_result"
    },
    {
     "data": {
      "image/png": "[encoded data removed]",
      "text/plain": [
       "<Figure size 432x288 with 1 Axes>"
      ]
     },
     "metadata": {
      "needs_background": "light"
     },
     "output_type": "display_data"
    }
   ],
   "source": [
    "start_time = time.monotonic()\n",
    "result = pipeline('3.png', 625, 4, 4)\n",
    "end_time = time.monotonic()\n",
    "print('Time of calcualtions: {}'.format(timedelta(seconds = end_time - start_time)))\n",
    "plt.imshow(result)"
   ]
  },
  {
   "cell_type": "code",
   "execution_count": 8,
   "metadata": {},
   "outputs": [
    {
     "name": "stdout",
     "output_type": "stream",
     "text": [
      "There are 1 objects in the image.\n",
      "Time of calcualtions: 0:08:28.016000\n"
     ]
    },
    {
     "data": {
      "text/plain": [
       "<matplotlib.image.AxesImage at 0x20fb518cb70>"
      ]
     },
     "execution_count": 8,
     "metadata": {},
     "output_type": "execute_result"
    },
    {
     "data": {
      "image/png": "[encoded data removed]",
      "text/plain": [
       "<Figure size 432x288 with 1 Axes>"
      ]
     },
     "metadata": {
      "needs_background": "light"
     },
     "output_type": "display_data"
    }
   ],
   "source": [
    "start_time = time.monotonic()\n",
    "result = pipeline('2.png', 625, 4, 1)\n",
    "end_time = time.monotonic()\n",
    "print('Time of calcualtions: {}'.format(timedelta(seconds = end_time - start_time)))\n",
    "plt.imshow(result)"
   ]
  },
  {
   "cell_type": "code",
   "execution_count": 9,
   "metadata": {},
   "outputs": [
    {
     "name": "stdout",
     "output_type": "stream",
     "text": [
      "There are 1 objects in the image.\n",
      "Time of calcualtions: 0:05:58.266000\n"
     ]
    },
    {
     "data": {
      "text/plain": [
       "<matplotlib.image.AxesImage at 0x20fbcf0ff28>"
      ]
     },
     "execution_count": 9,
     "metadata": {},
     "output_type": "execute_result"
    },
    {
     "data": {
      "image/png": "[encoded data removed]",
      "text/plain": [
       "<Figure size 432x288 with 1 Axes>"
      ]
     },
     "metadata": {
      "needs_background": "light"
     },
     "output_type": "display_data"
    }
   ],
   "source": [
    "start_time = time.monotonic()\n",
    "result = pipeline('5.png', 625, 4, 4)\n",
    "end_time = time.monotonic()\n",
    "print('Time of calcualtions: {}'.format(timedelta(seconds = end_time - start_time)))\n",
    "plt.imshow(result)"
   ]
  },
  {
   "cell_type": "code",
   "execution_count": 11,
   "metadata": {},
   "outputs": [
    {
     "name": "stdout",
     "output_type": "stream",
     "text": [
      "There are 1 objects in the image.\n",
      "Time of calcualtions: 0:18:48.297000\n"
     ]
    },
    {
     "data": {
      "text/plain": [
       "<matplotlib.image.AxesImage at 0x20fb61da128>"
      ]
     },
     "execution_count": 11,
     "metadata": {},
     "output_type": "execute_result"
    },
    {
     "data": {
      "image/png": "[encoded data removed]",
      "text/plain": [
       "<Figure size 432x288 with 1 Axes>"
      ]
     },
     "metadata": {
      "needs_background": "light"
     },
     "output_type": "display_data"
    }
   ],
   "source": [
    "start_time = time.monotonic()\n",
    "result = pipeline('6.png', 625, 4, 4)\n",
    "end_time = time.monotonic()\n",
    "print('Time of calcualtions: {}'.format(timedelta(seconds = end_time - start_time)))\n",
    "plt.imshow(result)"
   ]
  },
  {
   "cell_type": "code",
   "execution_count": 15,
   "metadata": {},
   "outputs": [
    {
     "name": "stdout",
     "output_type": "stream",
     "text": [
      "Time of calcualtions: 0:06:49.766000\n"
     ]
    },
    {
     "data": {
      "text/plain": [
       "<matplotlib.image.AxesImage at 0x20fb6599048>"
      ]
     },
     "execution_count": 15,
     "metadata": {},
     "output_type": "execute_result"
    },
    {
     "data": {
      "image/png": "[encoded data removed]",
      "text/plain": [
       "<Figure size 432x288 with 1 Axes>"
      ]
     },
     "metadata": {
      "needs_background": "light"
     },
     "output_type": "display_data"
    }
   ],
   "source": [
    "start_time = time.monotonic()\n",
    "result = pipeline('7.png', 625, 4, 4)\n",
    "end_time = time.monotonic()\n",
    "print('Time of calcualtions: {}'.format(timedelta(seconds = end_time - start_time)))\n",
    "plt.imshow(result)"
   ]
  },
  {
   "cell_type": "code",
   "execution_count": 16,
   "metadata": {},
   "outputs": [
    {
     "name": "stdout",
     "output_type": "stream",
     "text": [
      "Time of calcualtions: 0:07:24.281000\n"
     ]
    },
    {
     "data": {
      "text/plain": [
       "<matplotlib.image.AxesImage at 0x20faf327e48>"
      ]
     },
     "execution_count": 16,
     "metadata": {},
     "output_type": "execute_result"
    },
    {
     "data": {
      "image/png": "[encoded data removed]",
      "text/plain": [
       "<Figure size 432x288 with 1 Axes>"
      ]
     },
     "metadata": {
      "needs_background": "light"
     },
     "output_type": "display_data"
    }
   ],
   "source": [
    "start_time = time.monotonic()\n",
    "result = pipeline('red_blood_cells.png', 625, 4, 4)\n",
    "end_time = time.monotonic()\n",
    "print('Time of calcualtions: {}'.format(timedelta(seconds = end_time - start_time)))\n",
    "plt.imshow(result)"
   ]
  },
  {
   "cell_type": "code",
   "execution_count": 17,
   "metadata": {},
   "outputs": [
    {
     "name": "stdout",
     "output_type": "stream",
     "text": [
      "Time of calcualtions: 0:09:12.329000\n"
     ]
    },
    {
     "data": {
      "text/plain": [
       "<matplotlib.image.AxesImage at 0x20fadf13390>"
      ]
     },
     "execution_count": 17,
     "metadata": {},
     "output_type": "execute_result"
    },
    {
     "data": {
      "image/png": "[encoded data removed]",
      "text/plain": [
       "<Figure size 432x288 with 1 Axes>"
      ]
     },
     "metadata": {
      "needs_background": "light"
     },
     "output_type": "display_data"
    }
   ],
   "source": [
    "start_time = time.monotonic()\n",
    "result = pipeline('7.png', 625, 0.6, 6)\n",
    "end_time = time.monotonic()\n",
    "print('Time of calcualtions: {}'.format(timedelta(seconds = end_time - start_time)))\n",
    "plt.imshow(result)"
   ]
  },
  {
   "cell_type": "code",
   "execution_count": 18,
   "metadata": {},
   "outputs": [
    {
     "name": "stdout",
     "output_type": "stream",
     "text": [
      "Time of calcualtions: 0:10:42.391000\n"
     ]
    },
    {
     "data": {
      "text/plain": [
       "<matplotlib.image.AxesImage at 0x20fb6195358>"
      ]
     },
     "execution_count": 18,
     "metadata": {},
     "output_type": "execute_result"
    },
    {
     "data": {
      "image/png": "[encoded data removed]",
      "text/plain": [
       "<Figure size 432x288 with 1 Axes>"
      ]
     },
     "metadata": {
      "needs_background": "light"
     },
     "output_type": "display_data"
    }
   ],
   "source": [
    "start_time = time.monotonic()\n",
    "result = pipeline('7.png', 625, 6, 6)\n",
    "end_time = time.monotonic()\n",
    "print('Time of calcualtions: {}'.format(timedelta(seconds = end_time - start_time)))\n",
    "plt.imshow(result)"
   ]
  },
  {
   "cell_type": "code",
   "execution_count": null,
   "metadata": {},
   "outputs": [],
   "source": []
  }
 ],
 "metadata": {
  "kernelspec": {
   "display_name": "Python 3",
   "language": "python",
   "name": "python3"
  },
  "language_info": {
   "codemirror_mode": {
    "name": "ipython",
    "version": 3
   },
   "file_extension": ".py",
   "mimetype": "text/x-python",
   "name": "python",
   "nbconvert_exporter": "python",
   "pygments_lexer": "ipython3",
   "version": "3.7.1"
  }
 },
 "nbformat": 4,
 "nbformat_minor": 2
}

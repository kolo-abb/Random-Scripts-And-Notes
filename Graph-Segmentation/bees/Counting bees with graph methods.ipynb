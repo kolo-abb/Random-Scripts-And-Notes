{
 "cells": [
  {
   "cell_type": "markdown",
   "metadata": {},
   "source": [
    "# Counting bees with only graph methods\n",
    "\n",
    "Code was created with accordance to article by Wenbing Tao, Hai Jin, Yimin Zhang, Liman Liu, and Desheng Wang.\n",
    "<br>\n",
    "Link: https://ieeexplore.ieee.org/document/4604825"
   ]
  },
  {
   "cell_type": "code",
   "execution_count": 1,
   "metadata": {},
   "outputs": [],
   "source": [
    "from PIL import Image\n",
    "import numpy as np\n",
    "from matplotlib import pyplot as plt\n",
    "import math\n",
    "import time\n",
    "from datetime import timedelta\n",
    "from skimage import io, filters, measure\n",
    "from scipy import ndimage\n",
    "import networkx as nx"
   ]
  },
  {
   "cell_type": "code",
   "execution_count": 2,
   "metadata": {},
   "outputs": [],
   "source": [
    "# Graph does not need to be directed - we work directly only on ,,cut matrix\"\n",
    "# arr is array of image in grayscale (width x height) - it's elements are intenisities of pixels\n",
    "# I - sensivity of weights for intensity changes\n",
    "# X - sensivity of weights for spatial location between nodes\n",
    "\n",
    "\n",
    "# Define norm in R^2\n",
    "\n",
    "def norm(x1, y1, x2, y2):\n",
    "    norm = math.sqrt((x1-x2) ** 2 + (y1-y2) ** 2)\n",
    "    return norm\n",
    "\n",
    "# Define function assigning weight to an edge\n",
    "\n",
    "def set_capacity(arr, x1, y1, x2, y2, I, X):\n",
    "    capacity = np.exp( - ((abs(arr[x1][y1] - arr[x2][y2]) / I + norm(x1, y1, x2, y2) / X )) )\n",
    "    return capacity\n",
    "\n",
    "# Create cut matrix for an image\n",
    "\n",
    "def create_cut_matrix(arr, I, X):\n",
    "    M = np.zeros((256,256))\n",
    "    for i in range(arr.shape[0]):\n",
    "        for j in range(arr.shape[1]):\n",
    "            if i > 0:\n",
    "                capacity = set_capacity(arr,i,j,i-1,j,I,X)\n",
    "                M[arr[i-1][j]][arr[i][j]] += capacity\n",
    "                M[arr[i][j]][arr[i-1][j]] += capacity\n",
    "                if j > 0:\n",
    "                    capacity = set_capacity(arr,i-1,j-1,i,j,I,X)\n",
    "                    M[arr[i-1][j-1]][arr[i][j]] += capacity\n",
    "                    M[arr[i][j]][arr[i-1][j-1]] += capacity\n",
    "                if j < arr.shape[0] - 1:\n",
    "                    capacity = set_capacity(arr,i,j,i-1,j+1,I,X)\n",
    "                    M[arr[i-1][j+1]][arr[i][j]] += capacity\n",
    "                    M[arr[i][j]][arr[i-1][j+1]] += capacity\n",
    "            if j > 0:\n",
    "                capacity = set_capacity(arr,i,j-1,i,j,I,X)\n",
    "                M[arr[i][j-1]][arr[i][j]] += capacity\n",
    "                M[arr[i][j]][arr[i][j-1]] += capacity     \n",
    "    return M\n",
    "\n",
    "# Define function that returns optimal cut for given cut matrix M, threshold of cut t and minimal cut\n",
    "\n",
    "def get_NCut(t, M, NCut_min):\n",
    "    cutAB = 0                                # cut with sets A and B\n",
    "    assoAA = 0                               # sum of weights between pixels in A\n",
    "    assoBB = 0                               # sum of weights between pixels in B\n",
    "    for i in range(0,t+1):\n",
    "        for j in range(t+1,256):\n",
    "            cutAB += M[i][j]\n",
    "    for i in range(0,t+1):\n",
    "        for j in range(i,t+1):\n",
    "            assoAA += M[i][j]\n",
    "    for i in range(t+1,256):\n",
    "        for j in range(i,256):\n",
    "            assoBB += M[i][j]\n",
    "    A = assoAA + cutAB\n",
    "    B = assoBB + cutAB\n",
    "    if A != 0 and B != 0:\n",
    "        NCutAB = (cutAB / A) + (cutAB / B)    # get normalized cut\n",
    "    else:\n",
    "        NCutAB = NCut_min\n",
    "    return NCutAB\n",
    "\n",
    "# Get optimal threshold that results in minimal normalized cut for given ,,cut matrix\" M \n",
    "\n",
    "def get_treshold(M):\n",
    "    \n",
    "    # Initialization\n",
    "    t = 0\n",
    "    t_min = 0\n",
    "    NCut_min = 2\n",
    "    \n",
    "    # Search for best treshold and cut\n",
    "    while t <= 255:\n",
    "        NCutAB = get_NCut(t, M, NCut_min)\n",
    "        if NCutAB < NCut_min:\n",
    "            NCut_min = NCutAB\n",
    "            t_min = t\n",
    "        t += 1\n",
    "    return NCut_min, t_min\n",
    "\n",
    "# Process image with obtained threshold\n",
    "\n",
    "def treshold_image(arr, treshold):\n",
    "    result = arr\n",
    "    for i in range(arr.shape[0]):\n",
    "        for j in range(arr.shape[1]):\n",
    "            if arr[i][j] > treshold :\n",
    "                result[i][j] = 0\n",
    "            else:\n",
    "                result[i][j] = 1\n",
    "    return result"
   ]
  },
  {
   "cell_type": "code",
   "execution_count": 102,
   "metadata": {},
   "outputs": [],
   "source": [
    "# Create graph ,,binary graph\" used for DFS search in thresholded image\n",
    "# reached == 0 => node was not reached during DFS \n",
    "# weight == 0 or 1 depending on image binary threshold \n",
    "\n",
    "def create_binary_graph(im_arr):\n",
    "    G = nx.Graph()\n",
    "    for i in range(im_arr.shape[0]):\n",
    "        for j in range(im_arr.shape[1]):\n",
    "            G.add_node((i,j), weight = im_arr[i][j], reached = 0)      \n",
    "            if i > 0:\n",
    "                G.add_edge((i,j),(i-1,j))  \n",
    "                if j > 0:\n",
    "                    G.add_edge((i-1,j-1),(i,j))\n",
    "                if j < im_arr.shape[0] - 1:\n",
    "                    G.add_edge((i-1,j+1),(i,j))\n",
    "            if j > 0:\n",
    "                G.add_edge((i,j),(i,j-1))\n",
    "    return G\n",
    "\n",
    "# Count different objects by colouring DFS trees for thresholded image\n",
    "\n",
    "def colouring_binary_picture(image_array):\n",
    "    \n",
    "    #Initialization\n",
    "    G = create_binary_graph(image_array)\n",
    "    result = image_array\n",
    "    colour = 50\n",
    "    stack = []\n",
    "    banned_colours = []\n",
    "    \n",
    "    # DFS iterative way + colour assignment\n",
    "    for node in G.nodes():\n",
    "        counter = 0\n",
    "        if G.nodes[node]['reached'] == 0 and G.nodes[node]['weight'] == 1:\n",
    "            counter += 1\n",
    "            colour += 1\n",
    "            G.nodes[node]['reached'] = 1\n",
    "            result[node[0]][node[1]] = colour\n",
    "            stack.append(node)\n",
    "            while len(stack) != 0:\n",
    "                taken_node = stack.pop(0)\n",
    "                counter += 1\n",
    "                for neighbor in G.neighbors(taken_node):\n",
    "                    if G.nodes[neighbor]['reached'] == 0 and G.nodes[neighbor]['weight'] == 1:\n",
    "                        G.nodes[neighbor]['reached'] = 1\n",
    "                        result[neighbor[0]][neighbor[1]] = colour\n",
    "                        stack.append(neighbor)\n",
    "                        \n",
    "            # Search for ,,too big\" or ,,too small\" objects\n",
    "            if counter > 2000 or counter < 20:\n",
    "                banned_colours.append(colour)\n",
    "                \n",
    "    return result, banned_colours\n",
    "\n",
    "# Remove too small or too big objects \n",
    "# Note: All thresholds for saying that something is ,,big\" or ,,small\" are (for now!) assigned in experimental way\n",
    "#       Later I will try to set down an automatic threshold for such details\n",
    "\n",
    "def remove_banned_objects(colour_array, banned_colours):\n",
    "    result = colour_array\n",
    "    \n",
    "    for i in range(colour_array.shape[0]):\n",
    "        for j in range(colour_array.shape[1]):\n",
    "            if colour_array[i][j] in banned_colours:\n",
    "                result[i][j] = 0\n",
    "                \n",
    "    return result"
   ]
  },
  {
   "cell_type": "code",
   "execution_count": 104,
   "metadata": {},
   "outputs": [],
   "source": [
    "# image is an unopened picture, I and X need to be specified by user (possible automatic detection ??)\n",
    "\n",
    "def pipeline(image, I, X):\n",
    "    \n",
    "    im = Image.open(image).convert('L')\n",
    "    \n",
    "    im_arr = np.array(im, dtype='int64')    # int for possibility to iterate!\n",
    "    \n",
    "    # Threshold picture by cut matrix method\n",
    "    \n",
    "    M = create_cut_matrix(im_arr, I, X)\n",
    "    \n",
    "    N, T = get_treshold(M)\n",
    "    \n",
    "    threshold_result = treshold_image(im_arr, T)\n",
    "    \n",
    "    # Process obtained picture for possibility to properly count the bees\n",
    "    \n",
    "    colour_result, banned_colours = colouring_binary_picture(threshold_result)\n",
    "    \n",
    "    result = remove_banned_objects(colour_result, banned_colours)\n",
    "    \n",
    "    # Number of bees equals to all different colours used minus colour \"0\" for the background\n",
    "    \n",
    "    unique_values = np.unique(result) \n",
    "    \n",
    "    counter = len(unique_values) - 1\n",
    "    \n",
    "    print('There are {} objects in the image.'.format(counter))\n",
    "    \n",
    "    return result"
   ]
  },
  {
   "cell_type": "code",
   "execution_count": 105,
   "metadata": {},
   "outputs": [
    {
     "name": "stdout",
     "output_type": "stream",
     "text": [
      "There are 12 objects in the image.\n",
      "Time of calcualtions: 0:00:05.141000\n"
     ]
    },
    {
     "data": {
      "text/plain": [
       "<matplotlib.image.AxesImage at 0x1cdbddeee10>"
      ]
     },
     "execution_count": 105,
     "metadata": {},
     "output_type": "execute_result"
    },
    {
     "data": {
      "image/png": "[encoded data removed]",
      "text/plain": [
       "<Figure size 432x288 with 1 Axes>"
      ]
     },
     "metadata": {
      "needs_background": "light"
     },
     "output_type": "display_data"
    }
   ],
   "source": [
    "start_time = time.monotonic()\n",
    "result = pipeline('3.png', 625, 4)\n",
    "end_time = time.monotonic()\n",
    "print('Time of calcualtions: {}'.format(timedelta(seconds = end_time - start_time)))\n",
    "plt.imshow(result)"
   ]
  },
  {
   "cell_type": "code",
   "execution_count": 106,
   "metadata": {},
   "outputs": [
    {
     "name": "stdout",
     "output_type": "stream",
     "text": [
      "There are 12 objects in the image.\n",
      "Time of calcualtions: 0:00:08.890000\n"
     ]
    },
    {
     "data": {
      "text/plain": [
       "<matplotlib.image.AxesImage at 0x1cdbddf2c88>"
      ]
     },
     "execution_count": 106,
     "metadata": {},
     "output_type": "execute_result"
    },
    {
     "data": {
      "image/png": "[encoded data removed]",
      "text/plain": [
       "<Figure size 432x288 with 1 Axes>"
      ]
     },
     "metadata": {
      "needs_background": "light"
     },
     "output_type": "display_data"
    }
   ],
   "source": [
    "start_time = time.monotonic()\n",
    "result = pipeline('2.png', 625, 4)\n",
    "end_time = time.monotonic()\n",
    "print('Time of calcualtions: {}'.format(timedelta(seconds = end_time - start_time)))\n",
    "plt.imshow(result)"
   ]
  },
  {
   "cell_type": "code",
   "execution_count": 107,
   "metadata": {},
   "outputs": [
    {
     "name": "stdout",
     "output_type": "stream",
     "text": [
      "There are 0 objects in the image.\n",
      "Time of calcualtions: 0:00:04.765000\n"
     ]
    },
    {
     "data": {
      "text/plain": [
       "<matplotlib.image.AxesImage at 0x1cdb521a358>"
      ]
     },
     "execution_count": 107,
     "metadata": {},
     "output_type": "execute_result"
    },
    {
     "data": {
      "image/png": "[encoded data removed]",
      "text/plain": [
       "<Figure size 432x288 with 1 Axes>"
      ]
     },
     "metadata": {
      "needs_background": "light"
     },
     "output_type": "display_data"
    }
   ],
   "source": [
    "start_time = time.monotonic()\n",
    "result = pipeline('4.png', 625, 4)\n",
    "end_time = time.monotonic()\n",
    "print('Time of calcualtions: {}'.format(timedelta(seconds = end_time - start_time)))\n",
    "plt.imshow(result)"
   ]
  },
  {
   "cell_type": "code",
   "execution_count": 108,
   "metadata": {},
   "outputs": [
    {
     "name": "stdout",
     "output_type": "stream",
     "text": [
      "There are 9 objects in the image.\n",
      "Time of calcualtions: 0:00:04.797000\n"
     ]
    },
    {
     "data": {
      "text/plain": [
       "<matplotlib.image.AxesImage at 0x1cdb4563160>"
      ]
     },
     "execution_count": 108,
     "metadata": {},
     "output_type": "execute_result"
    },
    {
     "data": {
      "image/png": "[encoded data removed]",
      "text/plain": [
       "<Figure size 432x288 with 1 Axes>"
      ]
     },
     "metadata": {
      "needs_background": "light"
     },
     "output_type": "display_data"
    }
   ],
   "source": [
    "start_time = time.monotonic()\n",
    "result = pipeline('5.png', 625, 4)\n",
    "end_time = time.monotonic()\n",
    "print('Time of calcualtions: {}'.format(timedelta(seconds = end_time - start_time)))\n",
    "plt.imshow(result)"
   ]
  },
  {
   "cell_type": "code",
   "execution_count": 109,
   "metadata": {},
   "outputs": [
    {
     "name": "stdout",
     "output_type": "stream",
     "text": [
      "There are 7 objects in the image.\n",
      "Time of calcualtions: 0:00:04.891000\n"
     ]
    },
    {
     "data": {
      "text/plain": [
       "<matplotlib.image.AxesImage at 0x1cdb4e65400>"
      ]
     },
     "execution_count": 109,
     "metadata": {},
     "output_type": "execute_result"
    },
    {
     "data": {
      "image/png": "[encoded data removed]",
      "text/plain": [
       "<Figure size 432x288 with 1 Axes>"
      ]
     },
     "metadata": {
      "needs_background": "light"
     },
     "output_type": "display_data"
    }
   ],
   "source": [
    "start_time = time.monotonic()\n",
    "result = pipeline('6.png', 625, 4)\n",
    "end_time = time.monotonic()\n",
    "print('Time of calcualtions: {}'.format(timedelta(seconds = end_time - start_time)))\n",
    "plt.imshow(result)"
   ]
  },
  {
   "cell_type": "code",
   "execution_count": 110,
   "metadata": {},
   "outputs": [
    {
     "name": "stdout",
     "output_type": "stream",
     "text": [
      "There are 8 objects in the image.\n",
      "Time of calcualtions: 0:00:04.781000\n"
     ]
    },
    {
     "data": {
      "text/plain": [
       "<matplotlib.image.AxesImage at 0x1cdb5387c18>"
      ]
     },
     "execution_count": 110,
     "metadata": {},
     "output_type": "execute_result"
    },
    {
     "data": {
      "image/png": "[encoded data removed]",
      "text/plain": [
       "<Figure size 432x288 with 1 Axes>"
      ]
     },
     "metadata": {
      "needs_background": "light"
     },
     "output_type": "display_data"
    }
   ],
   "source": [
    "start_time = time.monotonic()\n",
    "result = pipeline('7.png', 625, 4)\n",
    "end_time = time.monotonic()\n",
    "print('Time of calcualtions: {}'.format(timedelta(seconds = end_time - start_time)))\n",
    "plt.imshow(result)"
   ]
  },
  {
   "cell_type": "code",
   "execution_count": null,
   "metadata": {},
   "outputs": [],
   "source": []
  }
 ],
 "metadata": {
  "kernelspec": {
   "display_name": "Python 3",
   "language": "python",
   "name": "python3"
  },
  "language_info": {
   "codemirror_mode": {
    "name": "ipython",
    "version": 3
   },
   "file_extension": ".py",
   "mimetype": "text/x-python",
   "name": "python",
   "nbconvert_exporter": "python",
   "pygments_lexer": "ipython3",
   "version": "3.7.1"
  }
 },
 "nbformat": 4,
 "nbformat_minor": 2
}

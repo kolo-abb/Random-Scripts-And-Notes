{
 "cells": [
  {
   "cell_type": "markdown",
   "metadata": {},
   "source": [
    "# Counting bees with only graph methods\n",
    "\n",
    "Code was created with accordance to article by Wenbing Tao, Hai Jin, Yimin Zhang, Liman Liu, and Desheng Wang.\n",
    "<br>\n",
    "Link: https://ieeexplore.ieee.org/document/4604825"
   ]
  },
  {
   "cell_type": "code",
   "execution_count": 1,
   "metadata": {},
   "outputs": [],
   "source": [
    "from PIL import Image\n",
    "import numpy as np\n",
    "from matplotlib import pyplot as plt\n",
    "import math\n",
    "import time\n",
    "from datetime import timedelta\n",
    "from skimage import io, filters, measure\n",
    "from scipy import ndimage, spatial\n",
    "import networkx as nx"
   ]
  },
  {
   "cell_type": "code",
   "execution_count": 2,
   "metadata": {},
   "outputs": [],
   "source": [
    "# Graph does not need to be directed - we work directly only on ,,cut matrix\"\n",
    "# arr is array of image in grayscale (width x height) - it's elements are intenisities of pixels\n",
    "# I - sensivity of weights for intensity changes\n",
    "# X - sensivity of weights for spatial location between nodes\n",
    "\n",
    "# Define function finding median for correct quartile calculations\n",
    "\n",
    "def find_median(sorted_list):\n",
    "    indices = []\n",
    "\n",
    "    list_size = len(sorted_list)\n",
    "    median = 0\n",
    "\n",
    "    if list_size % 2 == 0:\n",
    "        indices.append(int(list_size / 2) - 1)  # -1 because index starts from 0\n",
    "        indices.append(int(list_size / 2))\n",
    "\n",
    "        median = (sorted_list[indices[0]] + sorted_list[indices[1]]) / 2\n",
    "        pass\n",
    "    else:\n",
    "        indices.append(int(list_size / 2))\n",
    "\n",
    "        median = sorted_list[indices[0]]\n",
    "        pass\n",
    "\n",
    "    return median, indices\n",
    "\n",
    "# Create cut matrix for an image\n",
    "\n",
    "def create_cut_matrix(arr, I, X, radius):\n",
    "    \n",
    "    M = np.zeros((256,256))\n",
    "    width = arr.shape[0]\n",
    "    height = arr.shape[1]\n",
    "    \n",
    "    def find_ball_bounds(x, y, radius):\n",
    "        \n",
    "        left_bound = max(0, x - radius)\n",
    "        right_bound = min(width, x + radius)\n",
    "        upper_bound = min(height, y + radius)\n",
    "        lower_bound = max(0, y - radius)\n",
    "        \n",
    "        return left_bound, right_bound, upper_bound, lower_bound\n",
    "    \n",
    "    def set_capacity(x1, y1, x2, y2, I, X):\n",
    "        \n",
    "        capacity = np.exp( - ((abs(arr[x1][y1] - arr[x2][y2]) / I + norm(x1, y1, x2, y2) / X )) )\n",
    "    \n",
    "        return capacity\n",
    "\n",
    "    for x in range(width):\n",
    "        for y in range(height):\n",
    "            left, right, up, down = find_ball_bounds(x, y, radius)\n",
    "            for a in range(left,right):\n",
    "                for b in range(down,up):\n",
    "                    capacity = set_capacity(x, y, a, b, I, X)\n",
    "                    M[arr[x][y]][arr[a][b]] += capacity\n",
    "                    M[arr[a][b]][arr[x][y]] += capacity\n",
    "                    \n",
    "    return M\n",
    "\n",
    "# Define function that returns optimal cut for given cut matrix M, threshold of cut t and minimal cut\n",
    "\n",
    "def get_NCut(t, M, NCut_min):\n",
    "    \n",
    "    cutAB = 0                                # cut with sets A and B\n",
    "    assoAA = 0                               # sum of weights between pixels in A\n",
    "    assoBB = 0                               # sum of weights between pixels in B\n",
    "    \n",
    "    for i in range(0,t+1):\n",
    "        for j in range(t+1,256):\n",
    "            cutAB += M[i][j]\n",
    "            \n",
    "    for i in range(0,t+1):\n",
    "        for j in range(i,t+1):\n",
    "            assoAA += M[i][j]\n",
    "            \n",
    "    for i in range(t+1,256):\n",
    "        for j in range(i,256):\n",
    "            assoBB += M[i][j]\n",
    "            \n",
    "    A = assoAA + cutAB\n",
    "    B = assoBB + cutAB\n",
    "    \n",
    "    if A != 0 and B != 0:\n",
    "        NCutAB = (cutAB / A) + (cutAB / B)    # get normalized cut\n",
    "    else:\n",
    "        NCutAB = NCut_min\n",
    "        \n",
    "    return NCutAB\n",
    "\n",
    "# Get optimal threshold that results in minimal normalized cut for given ,,cut matrix\" M \n",
    "\n",
    "def get_treshold(M):\n",
    "    \n",
    "    # Initialization\n",
    "    t = 0\n",
    "    t_min = 0\n",
    "    NCut_min = 2\n",
    "    \n",
    "    # Search for best treshold and cut\n",
    "    while t <= 255:\n",
    "        NCutAB = get_NCut(t, M, NCut_min)\n",
    "        if NCutAB < NCut_min:\n",
    "            NCut_min = NCutAB\n",
    "            t_min = t\n",
    "        t += 1\n",
    "        \n",
    "    return NCut_min, t_min\n",
    "\n",
    "# Process image with obtained threshold\n",
    "\n",
    "def treshold_image(arr, treshold):\n",
    "    \n",
    "    result = arr\n",
    "    width = arr.shape[0]\n",
    "    height = arr.shape[1]\n",
    "    \n",
    "    for i in range(width):\n",
    "        for j in range(height):\n",
    "            if arr[i][j] > treshold :\n",
    "                result[i][j] = 0\n",
    "            else:\n",
    "                result[i][j] = 1\n",
    "                \n",
    "    return result"
   ]
  },
  {
   "cell_type": "code",
   "execution_count": 3,
   "metadata": {},
   "outputs": [],
   "source": [
    "# Create graph ,,binary graph\" used for DFS search in thresholded image\n",
    "# reached == 0 => node was not reached during DFS \n",
    "# weight == 0 or 1 depending on image binary threshold \n",
    "\n",
    "def create_binary_graph(im_arr):\n",
    "    G = nx.Graph()\n",
    "    for i in range(im_arr.shape[0]):\n",
    "        for j in range(im_arr.shape[1]):\n",
    "            G.add_node((i,j), weight = im_arr[i][j], reached = 0)      \n",
    "            if i > 0:\n",
    "                G.add_edge((i,j),(i-1,j))  \n",
    "                if j > 0:\n",
    "                    G.add_edge((i-1,j-1),(i,j))\n",
    "                if j < im_arr.shape[0] - 1:\n",
    "                    G.add_edge((i-1,j+1),(i,j))\n",
    "            if j > 0:\n",
    "                G.add_edge((i,j),(i,j-1))\n",
    "    return G\n",
    "\n",
    "# Count different objects by colouring DFS trees for thresholded image\n",
    "\n",
    "def colouring_binary_picture(image_array):\n",
    "    \n",
    "    #Initialization\n",
    "    G = create_binary_graph(image_array)\n",
    "    result = image_array\n",
    "    colour = 50\n",
    "    stack = []\n",
    "    colours = []\n",
    "    \n",
    "    # DFS iterative way + colour assignment\n",
    "    for node in G.nodes():\n",
    "        counter = 0\n",
    "        if G.nodes[node]['reached'] == 0 and G.nodes[node]['weight'] == 1:\n",
    "            counter += 1\n",
    "            colour += 1\n",
    "            G.nodes[node]['reached'] = 1\n",
    "            result[node[0]][node[1]] = colour\n",
    "            stack.append(node)\n",
    "            while len(stack) != 0:\n",
    "                taken_node = stack.pop(0)\n",
    "                counter += 1\n",
    "                for neighbor in G.neighbors(taken_node):\n",
    "                    if G.nodes[neighbor]['reached'] == 0 and G.nodes[neighbor]['weight'] == 1:\n",
    "                        G.nodes[neighbor]['reached'] = 1\n",
    "                        result[neighbor[0]][neighbor[1]] = colour\n",
    "                        stack.append(neighbor)\n",
    "                 \n",
    "            colours.append([colour, counter])\n",
    "    \n",
    "    return colours, result\n",
    "           \n",
    "def find_outliners(colours):\n",
    "\n",
    "    values = []\n",
    "    outliners = []\n",
    "    \n",
    "    for x in colours:\n",
    "        values.append(x[1])\n",
    "\n",
    "    median, median_indices = find_median(sorted(values))\n",
    "    Q1, Q1_indices = find_median(sorted(values)[:median_indices[0]])\n",
    "    Q3, Q3_indices = find_median(sorted(values)[median_indices[-1] + 1:])\n",
    "    \n",
    "    for x in colours:\n",
    "        if Q1 < x[1] and x[1] < Q3 + 1.5 * (Q3 - Q1):\n",
    "            pass\n",
    "        else:\n",
    "            outliners.append(x[0])\n",
    "                \n",
    "    return outliners\n",
    "\n",
    "# Remove too small or too big objects \n",
    "# Note: All thresholds for saying that something is ,,big\" or ,,small\" are (for now!) assigned in experimental way\n",
    "#   Later I will try to set down an automatic threshold for such details\n",
    "\n",
    "def remove_banned_objects(colour_array, outliners):\n",
    "    \n",
    "    result = colour_array\n",
    "    \n",
    "    for i in range(colour_array.shape[0]):\n",
    "        for j in range(colour_array.shape[1]):\n",
    "            if colour_array[i][j] in outliners:\n",
    "                result[i][j] = 0\n",
    "                \n",
    "    return result"
   ]
  },
  {
   "cell_type": "code",
   "execution_count": 4,
   "metadata": {},
   "outputs": [],
   "source": [
    "# image is an unopened picture, I and X need to be specified by user (possible automatic detection ??)\n",
    "\n",
    "def pipeline(image, I, X, radius):\n",
    "    \n",
    "    im = Image.open(image).convert('L')\n",
    "    \n",
    "    im_arr = np.array(im, dtype='int64')    # int for possibility to iterate!\n",
    "    \n",
    "    # Threshold picture by cut matrix method\n",
    "    \n",
    "    M = create_cut_matrix(im_arr, I, X, radius)\n",
    "    \n",
    "    N, T = get_treshold(M)\n",
    "    \n",
    "    threshold_result = treshold_image(im_arr, T)\n",
    "    \n",
    "    # Process obtained picture for possibility to properly count the bees\n",
    "    \n",
    "    colours, colour_result = colouring_binary_picture(threshold_result)\n",
    "    \n",
    "    banned_colours = find_outliners(colours)\n",
    "    \n",
    "    result = remove_banned_objects(colour_result, banned_colours)\n",
    "    \n",
    "    # Number of bees equals to all different colours used minus colour \"0\" for the background\n",
    "    \n",
    "    unique_values = np.unique(result) \n",
    "    \n",
    "    counter = len(unique_values) - 1\n",
    "    \n",
    "    print('There are {} objects in the image.'.format(counter))\n",
    "    \n",
    "    return result"
   ]
  },
  {
   "cell_type": "code",
   "execution_count": 37,
   "metadata": {},
   "outputs": [
    {
     "name": "stdout",
     "output_type": "stream",
     "text": [
      "There are 14 objects in the image.\n",
      "Time of calcualtions: 0:01:29.422000\n"
     ]
    },
    {
     "data": {
      "text/plain": [
       "<matplotlib.image.AxesImage at 0x202276684e0>"
      ]
     },
     "execution_count": 37,
     "metadata": {},
     "output_type": "execute_result"
    },
    {
     "data": {
      "image/png": "[encoded data removed]",
      "text/plain": [
       "<Figure size 432x288 with 1 Axes>"
      ]
     },
     "metadata": {
      "needs_background": "light"
     },
     "output_type": "display_data"
    }
   ],
   "source": [
    "start_time = time.monotonic()\n",
    "result = pipeline('3.png', 625, 4, 4)\n",
    "end_time = time.monotonic()\n",
    "print('Time of calcualtions: {}'.format(timedelta(seconds = end_time - start_time)))\n",
    "plt.imshow(result)"
   ]
  },
  {
   "cell_type": "code",
   "execution_count": 38,
   "metadata": {},
   "outputs": [
    {
     "name": "stdout",
     "output_type": "stream",
     "text": [
      "There are 15 objects in the image.\n",
      "Time of calcualtions: 0:02:42.453000\n"
     ]
    },
    {
     "data": {
      "text/plain": [
       "<matplotlib.image.AxesImage at 0x20227577898>"
      ]
     },
     "execution_count": 38,
     "metadata": {},
     "output_type": "execute_result"
    },
    {
     "data": {
      "image/png": "[encoded data removed]",
      "text/plain": [
       "<Figure size 432x288 with 1 Axes>"
      ]
     },
     "metadata": {
      "needs_background": "light"
     },
     "output_type": "display_data"
    }
   ],
   "source": [
    "start_time = time.monotonic()\n",
    "result = pipeline('2.png', 625, 4, 4)\n",
    "end_time = time.monotonic()\n",
    "print('Time of calcualtions: {}'.format(timedelta(seconds = end_time - start_time)))\n",
    "plt.imshow(result)"
   ]
  },
  {
   "cell_type": "code",
   "execution_count": 32,
   "metadata": {},
   "outputs": [
    {
     "name": "stdout",
     "output_type": "stream",
     "text": [
      "There are 15 objects in the image.\n",
      "Time of calcualtions: 0:01:22.359000\n"
     ]
    },
    {
     "data": {
      "text/plain": [
       "<matplotlib.image.AxesImage at 0x20227193860>"
      ]
     },
     "execution_count": 32,
     "metadata": {},
     "output_type": "execute_result"
    },
    {
     "data": {
      "image/png": "[encoded data removed]",
      "text/plain": [
       "<Figure size 432x288 with 1 Axes>"
      ]
     },
     "metadata": {
      "needs_background": "light"
     },
     "output_type": "display_data"
    }
   ],
   "source": [
    "start_time = time.monotonic()\n",
    "result = pipeline('5.png', 625, 4, 4)\n",
    "end_time = time.monotonic()\n",
    "print('Time of calcualtions: {}'.format(timedelta(seconds = end_time - start_time)))\n",
    "plt.imshow(result)"
   ]
  },
  {
   "cell_type": "code",
   "execution_count": 33,
   "metadata": {},
   "outputs": [
    {
     "name": "stdout",
     "output_type": "stream",
     "text": [
      "There are 12 objects in the image.\n",
      "Time of calcualtions: 0:01:27.109000\n"
     ]
    },
    {
     "data": {
      "text/plain": [
       "<matplotlib.image.AxesImage at 0x20227462748>"
      ]
     },
     "execution_count": 33,
     "metadata": {},
     "output_type": "execute_result"
    },
    {
     "data": {
      "image/png": "[encoded data removed]",
      "text/plain": [
       "<Figure size 432x288 with 1 Axes>"
      ]
     },
     "metadata": {
      "needs_background": "light"
     },
     "output_type": "display_data"
    }
   ],
   "source": [
    "start_time = time.monotonic()\n",
    "result = pipeline('6.png', 625, 4, 4)\n",
    "end_time = time.monotonic()\n",
    "print('Time of calcualtions: {}'.format(timedelta(seconds = end_time - start_time)))\n",
    "plt.imshow(result)"
   ]
  },
  {
   "cell_type": "code",
   "execution_count": 45,
   "metadata": {},
   "outputs": [
    {
     "name": "stdout",
     "output_type": "stream",
     "text": [
      "There are 9 objects in the image.\n",
      "Time of calcualtions: 0:01:24.875000\n"
     ]
    },
    {
     "data": {
      "text/plain": [
       "<matplotlib.image.AxesImage at 0x20222d38cc0>"
      ]
     },
     "execution_count": 45,
     "metadata": {},
     "output_type": "execute_result"
    },
    {
     "data": {
      "image/png": "[encoded data removed]",
      "text/plain": [
       "<Figure size 432x288 with 1 Axes>"
      ]
     },
     "metadata": {
      "needs_background": "light"
     },
     "output_type": "display_data"
    }
   ],
   "source": [
    "start_time = time.monotonic()\n",
    "result = pipeline('7.png', 625, 4, 4)\n",
    "end_time = time.monotonic()\n",
    "print('Time of calcualtions: {}'.format(timedelta(seconds = end_time - start_time)))\n",
    "plt.imshow(result)"
   ]
  },
  {
   "cell_type": "code",
   "execution_count": 15,
   "metadata": {},
   "outputs": [],
   "source": [
    "x = [[2,3]]\n",
    "y = [1,0]"
   ]
  },
  {
   "cell_type": "code",
   "execution_count": 20,
   "metadata": {},
   "outputs": [],
   "source": [
    "T = spatial.KDTree(x,leafsize=5)"
   ]
  },
  {
   "cell_type": "code",
   "execution_count": 22,
   "metadata": {},
   "outputs": [
    {
     "data": {
      "text/plain": [
       "[0]"
      ]
     },
     "execution_count": 22,
     "metadata": {},
     "output_type": "execute_result"
    }
   ],
   "source": [
    "T.query_ball_point([2,3], 2)"
   ]
  },
  {
   "cell_type": "code",
   "execution_count": 28,
   "metadata": {},
   "outputs": [
    {
     "data": {
      "text/plain": [
       "array([[128, 123, 121, ...,  99, 100, 100],\n",
       "       [135, 130, 131, ..., 101,  99,  99],\n",
       "       [142, 140, 141, ..., 100,  99,  99],\n",
       "       ...,\n",
       "       [110, 111, 111, ..., 141, 139, 140],\n",
       "       [110, 111, 111, ..., 141, 141, 143],\n",
       "       [110, 111, 111, ..., 141, 144, 146]], dtype=int64)"
      ]
     },
     "execution_count": 28,
     "metadata": {},
     "output_type": "execute_result"
    }
   ],
   "source": [
    "im = Image.open('7.png').convert('L')\n",
    "im_arr = np.array(im, dtype='int64')\n",
    "im_arr"
   ]
  },
  {
   "cell_type": "code",
   "execution_count": 26,
   "metadata": {},
   "outputs": [],
   "source": [
    "T = spatial.KDTree(,leafsize=5)"
   ]
  },
  {
   "cell_type": "code",
   "execution_count": 30,
   "metadata": {},
   "outputs": [
    {
     "ename": "ValueError",
     "evalue": "Searching for a 1-dimensional point in a 536-dimensional KDTree",
     "output_type": "error",
     "traceback": [
      "\u001b[1;31m---------------------------------------------------------------------------\u001b[0m",
      "\u001b[1;31mValueError\u001b[0m                                Traceback (most recent call last)",
      "\u001b[1;32m<ipython-input-30-94ac1e1819ec>\u001b[0m in \u001b[0;36m<module>\u001b[1;34m\u001b[0m\n\u001b[1;32m----> 1\u001b[1;33m \u001b[0mT\u001b[0m\u001b[1;33m.\u001b[0m\u001b[0mquery_ball_point\u001b[0m\u001b[1;33m(\u001b[0m\u001b[1;33m[\u001b[0m\u001b[0mim_arr\u001b[0m\u001b[1;33m[\u001b[0m\u001b[1;36m4\u001b[0m\u001b[1;33m]\u001b[0m\u001b[1;33m[\u001b[0m\u001b[1;36m5\u001b[0m\u001b[1;33m]\u001b[0m\u001b[1;33m]\u001b[0m\u001b[1;33m,\u001b[0m\u001b[1;36m2\u001b[0m\u001b[1;33m)\u001b[0m\u001b[1;33m\u001b[0m\u001b[1;33m\u001b[0m\u001b[0m\n\u001b[0m",
      "\u001b[1;32m~\\Anaconda3\\lib\\site-packages\\scipy\\spatial\\kdtree.py\u001b[0m in \u001b[0;36mquery_ball_point\u001b[1;34m(self, x, r, p, eps)\u001b[0m\n\u001b[0;32m    617\u001b[0m         \u001b[1;32mif\u001b[0m \u001b[0mx\u001b[0m\u001b[1;33m.\u001b[0m\u001b[0mshape\u001b[0m\u001b[1;33m[\u001b[0m\u001b[1;33m-\u001b[0m\u001b[1;36m1\u001b[0m\u001b[1;33m]\u001b[0m \u001b[1;33m!=\u001b[0m \u001b[0mself\u001b[0m\u001b[1;33m.\u001b[0m\u001b[0mm\u001b[0m\u001b[1;33m:\u001b[0m\u001b[1;33m\u001b[0m\u001b[1;33m\u001b[0m\u001b[0m\n\u001b[0;32m    618\u001b[0m             raise ValueError(\"Searching for a %d-dimensional point in a \"\n\u001b[1;32m--> 619\u001b[1;33m                              \"%d-dimensional KDTree\" % (x.shape[-1], self.m))\n\u001b[0m\u001b[0;32m    620\u001b[0m         \u001b[1;32mif\u001b[0m \u001b[0mlen\u001b[0m\u001b[1;33m(\u001b[0m\u001b[0mx\u001b[0m\u001b[1;33m.\u001b[0m\u001b[0mshape\u001b[0m\u001b[1;33m)\u001b[0m \u001b[1;33m==\u001b[0m \u001b[1;36m1\u001b[0m\u001b[1;33m:\u001b[0m\u001b[1;33m\u001b[0m\u001b[1;33m\u001b[0m\u001b[0m\n\u001b[0;32m    621\u001b[0m             \u001b[1;32mreturn\u001b[0m \u001b[0mself\u001b[0m\u001b[1;33m.\u001b[0m\u001b[0m__query_ball_point\u001b[0m\u001b[1;33m(\u001b[0m\u001b[0mx\u001b[0m\u001b[1;33m,\u001b[0m \u001b[0mr\u001b[0m\u001b[1;33m,\u001b[0m \u001b[0mp\u001b[0m\u001b[1;33m,\u001b[0m \u001b[0meps\u001b[0m\u001b[1;33m)\u001b[0m\u001b[1;33m\u001b[0m\u001b[1;33m\u001b[0m\u001b[0m\n",
      "\u001b[1;31mValueError\u001b[0m: Searching for a 1-dimensional point in a 536-dimensional KDTree"
     ]
    }
   ],
   "source": [
    "T.query_ball_point"
   ]
  },
  {
   "cell_type": "code",
   "execution_count": 31,
   "metadata": {},
   "outputs": [
    {
     "data": {
      "text/plain": [
       "159"
      ]
     },
     "execution_count": 31,
     "metadata": {},
     "output_type": "execute_result"
    }
   ],
   "source": [
    "im_arr[4][5]"
   ]
  },
  {
   "cell_type": "code",
   "execution_count": 34,
   "metadata": {},
   "outputs": [
    {
     "data": {
      "text/plain": [
       "(199, 536)"
      ]
     },
     "execution_count": 34,
     "metadata": {},
     "output_type": "execute_result"
    }
   ],
   "source": [
    "im_arr.shape"
   ]
  },
  {
   "cell_type": "code",
   "execution_count": 40,
   "metadata": {},
   "outputs": [],
   "source": [
    "d = spatial.distance.pdist([[1,2],[1,2]], 'euclidean')"
   ]
  },
  {
   "cell_type": "code",
   "execution_count": 41,
   "metadata": {},
   "outputs": [
    {
     "data": {
      "text/plain": [
       "0.0"
      ]
     },
     "execution_count": 41,
     "metadata": {},
     "output_type": "execute_result"
    }
   ],
   "source": [
    "d[0]"
   ]
  },
  {
   "cell_type": "code",
   "execution_count": 44,
   "metadata": {},
   "outputs": [],
   "source": [
    "T = spatial.KDTree([[0,0]], 3)"
   ]
  },
  {
   "cell_type": "code",
   "execution_count": 64,
   "metadata": {},
   "outputs": [
    {
     "name": "stdout",
     "output_type": "stream",
     "text": [
      "[[ 0  0]\n",
      " [ 0  1]\n",
      " [ 0  2]\n",
      " [ 1  0]\n",
      " [ 1  1]\n",
      " [ 1  2]\n",
      " [ 2  0]\n",
      " [ 2  1]\n",
      " [ 2  2]\n",
      " [ 3  0]\n",
      " [ 3  1]\n",
      " [ 3  2]\n",
      " [ 0  3]\n",
      " [ 0  4]\n",
      " [ 1  3]\n",
      " [ 1  4]\n",
      " [ 2  3]\n",
      " [ 2  4]\n",
      " [ 3  3]\n",
      " [ 3  4]\n",
      " [ 4  0]\n",
      " [ 4  1]\n",
      " [ 4  2]\n",
      " [ 5  0]\n",
      " [ 5  1]\n",
      " [ 5  2]\n",
      " [ 6  0]\n",
      " [ 6  1]\n",
      " [ 6  2]\n",
      " [ 4  3]\n",
      " [ 4  4]\n",
      " [ 5  3]\n",
      " [ 5  4]\n",
      " [ 6  3]\n",
      " [ 6  4]\n",
      " [ 0  5]\n",
      " [ 0  6]\n",
      " [ 1  5]\n",
      " [ 1  6]\n",
      " [ 2  5]\n",
      " [ 2  6]\n",
      " [ 3  5]\n",
      " [ 3  6]\n",
      " [ 0  7]\n",
      " [ 0  8]\n",
      " [ 0  9]\n",
      " [ 1  7]\n",
      " [ 1  8]\n",
      " [ 1  9]\n",
      " [ 2  7]\n",
      " [ 2  8]\n",
      " [ 2  9]\n",
      " [ 3  7]\n",
      " [ 3  8]\n",
      " [ 3  9]\n",
      " [ 4  5]\n",
      " [ 4  6]\n",
      " [ 5  5]\n",
      " [ 5  6]\n",
      " [ 6  5]\n",
      " [ 6  6]\n",
      " [ 4  7]\n",
      " [ 4  8]\n",
      " [ 4  9]\n",
      " [ 5  7]\n",
      " [ 5  8]\n",
      " [ 5  9]\n",
      " [ 6  7]\n",
      " [ 6  8]\n",
      " [ 6  9]\n",
      " [ 7  0]\n",
      " [ 7  1]\n",
      " [ 7  2]\n",
      " [ 8  0]\n",
      " [ 8  1]\n",
      " [ 8  2]\n",
      " [ 9  0]\n",
      " [ 9  1]\n",
      " [ 9  2]\n",
      " [ 7  3]\n",
      " [ 7  4]\n",
      " [ 8  3]\n",
      " [ 8  4]\n",
      " [ 9  3]\n",
      " [ 9  4]\n",
      " [10  2]\n",
      " [ 7  5]\n",
      " [ 7  6]\n",
      " [ 8  5]\n",
      " [ 8  6]\n",
      " [ 9  5]\n",
      " [ 9  6]\n",
      " [ 7  7]\n",
      " [ 7  8]\n",
      " [ 7  9]\n",
      " [ 8  7]\n",
      " [ 8  8]\n",
      " [ 0 10]\n",
      " [ 0 11]\n",
      " [ 1 10]\n",
      " [ 1 11]\n",
      " [ 2 10]\n",
      " [ 2 11]\n",
      " [ 3 10]\n",
      " [ 3 11]\n",
      " [ 0 12]\n",
      " [ 4 10]\n",
      " [ 4 11]\n",
      " [ 5 10]\n",
      " [ 6 10]]\n"
     ]
    }
   ],
   "source": [
    "point = []\n",
    "for i in range(0,200):\n",
    "    for j in range(0,300):\n",
    "        point.append((i,j))\n",
    "        \n",
    "point = np.asarray(point)\n",
    "T = spatial.KDTree(point)\n",
    "idx = T.query_ball_point([0,2],r=2)\n",
    "print(point[idx])"
   ]
  },
  {
   "cell_type": "code",
   "execution_count": 60,
   "metadata": {},
   "outputs": [
    {
     "data": {
      "text/plain": [
       "array([[0, 0],\n",
       "       [0, 1],\n",
       "       [0, 2],\n",
       "       [1, 0],\n",
       "       [1, 1],\n",
       "       [1, 2]])"
      ]
     },
     "execution_count": 60,
     "metadata": {},
     "output_type": "execute_result"
    }
   ],
   "source": [
    "point"
   ]
  },
  {
   "cell_type": "code",
   "execution_count": null,
   "metadata": {},
   "outputs": [],
   "source": []
  }
 ],
 "metadata": {
  "kernelspec": {
   "display_name": "Python 3",
   "language": "python",
   "name": "python3"
  },
  "language_info": {
   "codemirror_mode": {
    "name": "ipython",
    "version": 3
   },
   "file_extension": ".py",
   "mimetype": "text/x-python",
   "name": "python",
   "nbconvert_exporter": "python",
   "pygments_lexer": "ipython3",
   "version": "3.7.1"
  }
 },
 "nbformat": 4,
 "nbformat_minor": 2
}
